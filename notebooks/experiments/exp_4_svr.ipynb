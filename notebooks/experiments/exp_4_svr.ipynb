{
 "cells": [
  {
   "cell_type": "code",
   "execution_count": 1,
   "metadata": {},
   "outputs": [],
   "source": [
    "import mlflow\n",
    "import dagshub\n",
    "import pandas as pd\n",
    "import numpy as np\n",
    "\n",
    "from sklearn.model_selection import train_test_split,GridSearchCV\n",
    "from sklearn.compose import ColumnTransformer\n",
    "from sklearn.preprocessing import StandardScaler, OneHotEncoder\n",
    "from sklearn.metrics import mean_squared_error, r2_score, make_scorer\n",
    "from sklearn.svm import SVR"
   ]
  },
  {
   "cell_type": "code",
   "execution_count": 50,
   "metadata": {},
   "outputs": [],
   "source": [
    "df = pd.read_csv('../../data/processed/gurgaon_properties_post_feature_selection.csv')"
   ]
  },
  {
   "cell_type": "code",
   "execution_count": 51,
   "metadata": {},
   "outputs": [],
   "source": [
    "X = df.drop(columns=['price'])\n",
    "y = df['price']"
   ]
  },
  {
   "cell_type": "code",
   "execution_count": 4,
   "metadata": {},
   "outputs": [],
   "source": [
    "y = np.log1p(y)\n",
    "columns_to_scale = ['property_type', 'bedRoom', 'bathroom', 'built_up_area', 'servant room', 'store room']\n",
    "columns_to_encode = ['sector', 'balcony', 'agePossession', 'furnishing_type', 'luxury_category', 'floor_category']\n",
    "\n",
    "preprocessor = ColumnTransformer(\n",
    "    transformers=[\n",
    "        ('num', StandardScaler(), columns_to_scale),\n",
    "        ('cat', OneHotEncoder(drop='first'), columns_to_encode)\n",
    "    ],\n",
    "    remainder='passthrough'\n",
    ")\n",
    "\n",
    "X = preprocessor.fit_transform(X)"
   ]
  },
  {
   "cell_type": "code",
   "execution_count": 11,
   "metadata": {},
   "outputs": [],
   "source": [
    "X_train, X_test, y_train, y_test = train_test_split(X, y, test_size=0.2, random_state=42)\n",
    "\n",
    "\n",
    "svr_model = SVR()\n",
    "\n",
    "# Define the parameter grid\n",
    "param_grid = {\n",
    "    'C': [0.1, 1, 10],\n",
    "    'kernel': ['rbf', 'sigmoid'],\n",
    "    # 'degree': [3, 4, 5],\n",
    "    'gamma': [ 0.001, 0.1, 1],\n",
    "    'epsilon': [0.01, 0.1, 0.2]\n",
    "}\n"
   ]
  },
  {
   "cell_type": "code",
   "execution_count": 12,
   "metadata": {},
   "outputs": [],
   "source": [
    "scoring = {'mse': make_scorer(mean_squared_error, greater_is_better=False),\n",
    "           'r2': make_scorer(r2_score)}\n",
    "\n",
    "grid_search = GridSearchCV(estimator=svr_model, \n",
    "                           param_grid=param_grid, \n",
    "                           refit='r2',\n",
    "                           cv=5, \n",
    "                           scoring=scoring, \n",
    "                           verbose=1, \n",
    "                           n_jobs=-1)"
   ]
  },
  {
   "cell_type": "code",
   "execution_count": 13,
   "metadata": {},
   "outputs": [
    {
     "data": {
      "text/html": [
       "<pre style=\"white-space:pre;overflow-x:auto;line-height:normal;font-family:Menlo,'DejaVu Sans Mono',consolas,'Courier New',monospace\">Initialized MLflow to track repo <span style=\"color: #008000; text-decoration-color: #008000\">\"kevalsakhiya/property-scout\"</span>\n",
       "</pre>\n"
      ],
      "text/plain": [
       "Initialized MLflow to track repo \u001b[32m\"kevalsakhiya/property-scout\"\u001b[0m\n"
      ]
     },
     "metadata": {},
     "output_type": "display_data"
    },
    {
     "data": {
      "text/html": [
       "<pre style=\"white-space:pre;overflow-x:auto;line-height:normal;font-family:Menlo,'DejaVu Sans Mono',consolas,'Courier New',monospace\">Repository kevalsakhiya/property-scout initialized!\n",
       "</pre>\n"
      ],
      "text/plain": [
       "Repository kevalsakhiya/property-scout initialized!\n"
      ]
     },
     "metadata": {},
     "output_type": "display_data"
    }
   ],
   "source": [
    "import dagshub\n",
    "import mlflow\n",
    "\n",
    "dagshub.init(repo_owner='kevalsakhiya', repo_name='property-scout', mlflow=True)\n",
    "mlflow.set_tracking_uri('https://dagshub.com/kevalsakhiya/property-scout.mlflow')"
   ]
  },
  {
   "cell_type": "code",
   "execution_count": 14,
   "metadata": {},
   "outputs": [
    {
     "name": "stderr",
     "output_type": "stream",
     "text": [
      "2024/08/02 15:29:19 INFO mlflow.tracking.fluent: Autologging successfully enabled for sklearn.\n",
      "2024/08/02 15:29:20 WARNING mlflow.sklearn: Failed to log training dataset information to MLflow Tracking. Reason: 'Series' object has no attribute 'toarray'\n"
     ]
    },
    {
     "name": "stdout",
     "output_type": "stream",
     "text": [
      "Fitting 5 folds for each of 54 candidates, totalling 270 fits\n"
     ]
    },
    {
     "name": "stderr",
     "output_type": "stream",
     "text": [
      "2024/08/02 15:29:52 WARNING mlflow.utils.autologging_utils: MLflow autologging encountered a warning: \"/home/keval/Desktop/work/machine_learning/property-scout/.venv/lib/python3.12/site-packages/mlflow/sklearn/utils.py:808: UserWarning: Top 5 child runs will be created based on ordering in rank_test_mse column.  You can choose not to limit the number of child runs created by setting `max_tuning_runs=None`.\"\n",
      "2024/08/02 15:29:52 INFO mlflow.sklearn.utils: Logging the 5 best runs, 49 runs will be omitted.\n",
      "2024/08/02 15:29:55 INFO mlflow.tracking._tracking_service.client: 🏃 View run popular-wasp-854 at: https://dagshub.com/kevalsakhiya/property-scout.mlflow/#/experiments/7/runs/2f7a908af8b9429a84ff6408894fd11e.\n",
      "2024/08/02 15:29:55 INFO mlflow.tracking._tracking_service.client: 🧪 View experiment at: https://dagshub.com/kevalsakhiya/property-scout.mlflow/#/experiments/7.\n",
      "2024/08/02 15:29:55 INFO mlflow.tracking._tracking_service.client: 🏃 View run legendary-shrike-560 at: https://dagshub.com/kevalsakhiya/property-scout.mlflow/#/experiments/7/runs/562105126cc84c74a23d7bd4866b0bd8.\n",
      "2024/08/02 15:29:55 INFO mlflow.tracking._tracking_service.client: 🧪 View experiment at: https://dagshub.com/kevalsakhiya/property-scout.mlflow/#/experiments/7.\n",
      "2024/08/02 15:29:55 INFO mlflow.tracking._tracking_service.client: 🏃 View run luminous-slug-312 at: https://dagshub.com/kevalsakhiya/property-scout.mlflow/#/experiments/7/runs/bedc7889db2f4a9ea50e8bd59149e53e.\n",
      "2024/08/02 15:29:55 INFO mlflow.tracking._tracking_service.client: 🧪 View experiment at: https://dagshub.com/kevalsakhiya/property-scout.mlflow/#/experiments/7.\n",
      "2024/08/02 15:29:55 INFO mlflow.tracking._tracking_service.client: 🏃 View run bright-mole-405 at: https://dagshub.com/kevalsakhiya/property-scout.mlflow/#/experiments/7/runs/525a8b53fc284c909f02c8e26343deb4.\n",
      "2024/08/02 15:29:55 INFO mlflow.tracking._tracking_service.client: 🧪 View experiment at: https://dagshub.com/kevalsakhiya/property-scout.mlflow/#/experiments/7.\n",
      "2024/08/02 15:29:57 INFO mlflow.tracking._tracking_service.client: 🏃 View run omniscient-worm-47 at: https://dagshub.com/kevalsakhiya/property-scout.mlflow/#/experiments/7/runs/da8d09586713475697b6e9675d8c30f7.\n",
      "2024/08/02 15:29:57 INFO mlflow.tracking._tracking_service.client: 🧪 View experiment at: https://dagshub.com/kevalsakhiya/property-scout.mlflow/#/experiments/7.\n",
      "2024/08/02 15:30:00 INFO mlflow.tracking._tracking_service.client: 🏃 View run powerful-cub-487 at: https://dagshub.com/kevalsakhiya/property-scout.mlflow/#/experiments/7/runs/37d187ad171747919905f9d1176c7727.\n",
      "2024/08/02 15:30:00 INFO mlflow.tracking._tracking_service.client: 🧪 View experiment at: https://dagshub.com/kevalsakhiya/property-scout.mlflow/#/experiments/7.\n",
      "2024/08/02 15:30:04 INFO mlflow.tracking._tracking_service.client: 🏃 View run welcoming-lynx-648 at: https://dagshub.com/kevalsakhiya/property-scout.mlflow/#/experiments/7/runs/3202737b29464dc4ace8ceb71c760e1d.\n",
      "2024/08/02 15:30:04 INFO mlflow.tracking._tracking_service.client: 🧪 View experiment at: https://dagshub.com/kevalsakhiya/property-scout.mlflow/#/experiments/7.\n",
      "2024/08/02 15:30:07 INFO mlflow.tracking._tracking_service.client: 🏃 View run worried-shark-476 at: https://dagshub.com/kevalsakhiya/property-scout.mlflow/#/experiments/7/runs/562ef7b22096499dabe50aa9daaad008.\n",
      "2024/08/02 15:30:07 INFO mlflow.tracking._tracking_service.client: 🧪 View experiment at: https://dagshub.com/kevalsakhiya/property-scout.mlflow/#/experiments/7.\n",
      "2024/08/02 15:30:10 INFO mlflow.tracking._tracking_service.client: 🏃 View run loud-shark-504 at: https://dagshub.com/kevalsakhiya/property-scout.mlflow/#/experiments/7/runs/8e3ef72f497f4e47a18444bc81ec90b0.\n",
      "2024/08/02 15:30:10 INFO mlflow.tracking._tracking_service.client: 🧪 View experiment at: https://dagshub.com/kevalsakhiya/property-scout.mlflow/#/experiments/7.\n",
      "2024/08/02 15:30:12 INFO mlflow.tracking._tracking_service.client: 🏃 View run caring-bee-525 at: https://dagshub.com/kevalsakhiya/property-scout.mlflow/#/experiments/7/runs/d1c9af9beb914f839c1ae0f690bbdb65.\n",
      "2024/08/02 15:30:12 INFO mlflow.tracking._tracking_service.client: 🧪 View experiment at: https://dagshub.com/kevalsakhiya/property-scout.mlflow/#/experiments/7.\n",
      "2024/08/02 15:30:15 INFO mlflow.tracking._tracking_service.client: 🏃 View run unruly-foal-495 at: https://dagshub.com/kevalsakhiya/property-scout.mlflow/#/experiments/7/runs/5672d9b14ec241f7835f1743af9c88a3.\n",
      "2024/08/02 15:30:15 INFO mlflow.tracking._tracking_service.client: 🧪 View experiment at: https://dagshub.com/kevalsakhiya/property-scout.mlflow/#/experiments/7.\n",
      "2024/08/02 15:30:18 INFO mlflow.tracking._tracking_service.client: 🏃 View run rogue-chimp-453 at: https://dagshub.com/kevalsakhiya/property-scout.mlflow/#/experiments/7/runs/ea87671ebf1645faba606284472074fb.\n",
      "2024/08/02 15:30:18 INFO mlflow.tracking._tracking_service.client: 🧪 View experiment at: https://dagshub.com/kevalsakhiya/property-scout.mlflow/#/experiments/7.\n",
      "2024/08/02 15:30:21 INFO mlflow.tracking._tracking_service.client: 🏃 View run resilient-swan-800 at: https://dagshub.com/kevalsakhiya/property-scout.mlflow/#/experiments/7/runs/1d4aefd7d63e4616ae2d955be280abde.\n",
      "2024/08/02 15:30:21 INFO mlflow.tracking._tracking_service.client: 🧪 View experiment at: https://dagshub.com/kevalsakhiya/property-scout.mlflow/#/experiments/7.\n",
      "2024/08/02 15:30:23 INFO mlflow.tracking._tracking_service.client: 🏃 View run worried-stag-264 at: https://dagshub.com/kevalsakhiya/property-scout.mlflow/#/experiments/7/runs/d9984e44b5854c2981c83ca4f37c89be.\n",
      "2024/08/02 15:30:23 INFO mlflow.tracking._tracking_service.client: 🧪 View experiment at: https://dagshub.com/kevalsakhiya/property-scout.mlflow/#/experiments/7.\n",
      "2024/08/02 15:30:26 INFO mlflow.tracking._tracking_service.client: 🏃 View run receptive-loon-469 at: https://dagshub.com/kevalsakhiya/property-scout.mlflow/#/experiments/7/runs/41a6ee4b69a54e8fabb69a5d3703a516.\n",
      "2024/08/02 15:30:26 INFO mlflow.tracking._tracking_service.client: 🧪 View experiment at: https://dagshub.com/kevalsakhiya/property-scout.mlflow/#/experiments/7.\n",
      "2024/08/02 15:30:28 INFO mlflow.tracking._tracking_service.client: 🏃 View run funny-colt-850 at: https://dagshub.com/kevalsakhiya/property-scout.mlflow/#/experiments/7/runs/08f35fac7ad24d92a97db05f63289ba3.\n",
      "2024/08/02 15:30:28 INFO mlflow.tracking._tracking_service.client: 🧪 View experiment at: https://dagshub.com/kevalsakhiya/property-scout.mlflow/#/experiments/7.\n",
      "2024/08/02 15:30:31 INFO mlflow.tracking._tracking_service.client: 🏃 View run stately-hawk-163 at: https://dagshub.com/kevalsakhiya/property-scout.mlflow/#/experiments/7/runs/439e7a820b154f70bd09701690a03362.\n",
      "2024/08/02 15:30:31 INFO mlflow.tracking._tracking_service.client: 🧪 View experiment at: https://dagshub.com/kevalsakhiya/property-scout.mlflow/#/experiments/7.\n",
      "2024/08/02 15:30:34 INFO mlflow.tracking._tracking_service.client: 🏃 View run beautiful-grub-535 at: https://dagshub.com/kevalsakhiya/property-scout.mlflow/#/experiments/7/runs/35429f1dd97f476a8db310cf31ae00ee.\n",
      "2024/08/02 15:30:34 INFO mlflow.tracking._tracking_service.client: 🧪 View experiment at: https://dagshub.com/kevalsakhiya/property-scout.mlflow/#/experiments/7.\n",
      "2024/08/02 15:30:36 INFO mlflow.tracking._tracking_service.client: 🏃 View run big-chimp-211 at: https://dagshub.com/kevalsakhiya/property-scout.mlflow/#/experiments/7/runs/e4c504d43ea74671aa59b8b1ca6bed8d.\n",
      "2024/08/02 15:30:36 INFO mlflow.tracking._tracking_service.client: 🧪 View experiment at: https://dagshub.com/kevalsakhiya/property-scout.mlflow/#/experiments/7.\n",
      "2024/08/02 15:30:39 INFO mlflow.tracking._tracking_service.client: 🏃 View run powerful-yak-402 at: https://dagshub.com/kevalsakhiya/property-scout.mlflow/#/experiments/7/runs/8bc5c8baf5b04151b073a4ec97dcc795.\n",
      "2024/08/02 15:30:39 INFO mlflow.tracking._tracking_service.client: 🧪 View experiment at: https://dagshub.com/kevalsakhiya/property-scout.mlflow/#/experiments/7.\n",
      "2024/08/02 15:30:43 INFO mlflow.tracking._tracking_service.client: 🏃 View run mysterious-crab-186 at: https://dagshub.com/kevalsakhiya/property-scout.mlflow/#/experiments/7/runs/fc4f2af4a1a74722a0eda4525fc71e94.\n",
      "2024/08/02 15:30:43 INFO mlflow.tracking._tracking_service.client: 🧪 View experiment at: https://dagshub.com/kevalsakhiya/property-scout.mlflow/#/experiments/7.\n",
      "2024/08/02 15:30:45 INFO mlflow.tracking._tracking_service.client: 🏃 View run mysterious-snipe-962 at: https://dagshub.com/kevalsakhiya/property-scout.mlflow/#/experiments/7/runs/1b7c73d5d0b44a5eb9413c0527c062f8.\n",
      "2024/08/02 15:30:45 INFO mlflow.tracking._tracking_service.client: 🧪 View experiment at: https://dagshub.com/kevalsakhiya/property-scout.mlflow/#/experiments/7.\n",
      "2024/08/02 15:30:48 INFO mlflow.tracking._tracking_service.client: 🏃 View run indecisive-ape-175 at: https://dagshub.com/kevalsakhiya/property-scout.mlflow/#/experiments/7/runs/c64f16d5360f4b99a804d1ad35cd23f1.\n",
      "2024/08/02 15:30:48 INFO mlflow.tracking._tracking_service.client: 🧪 View experiment at: https://dagshub.com/kevalsakhiya/property-scout.mlflow/#/experiments/7.\n",
      "2024/08/02 15:30:51 INFO mlflow.tracking._tracking_service.client: 🏃 View run dashing-sheep-864 at: https://dagshub.com/kevalsakhiya/property-scout.mlflow/#/experiments/7/runs/1aaa1bf6abed47848f389ff6719c0450.\n",
      "2024/08/02 15:30:51 INFO mlflow.tracking._tracking_service.client: 🧪 View experiment at: https://dagshub.com/kevalsakhiya/property-scout.mlflow/#/experiments/7.\n",
      "2024/08/02 15:30:54 INFO mlflow.tracking._tracking_service.client: 🏃 View run monumental-skink-860 at: https://dagshub.com/kevalsakhiya/property-scout.mlflow/#/experiments/7/runs/5649c425bc1840c3880fa7a3b812da47.\n",
      "2024/08/02 15:30:54 INFO mlflow.tracking._tracking_service.client: 🧪 View experiment at: https://dagshub.com/kevalsakhiya/property-scout.mlflow/#/experiments/7.\n",
      "2024/08/02 15:30:56 INFO mlflow.tracking._tracking_service.client: 🏃 View run amazing-rook-841 at: https://dagshub.com/kevalsakhiya/property-scout.mlflow/#/experiments/7/runs/0740ef08590444e4b72f6b6cc705d8aa.\n",
      "2024/08/02 15:30:56 INFO mlflow.tracking._tracking_service.client: 🧪 View experiment at: https://dagshub.com/kevalsakhiya/property-scout.mlflow/#/experiments/7.\n",
      "2024/08/02 15:30:59 INFO mlflow.tracking._tracking_service.client: 🏃 View run gaudy-asp-518 at: https://dagshub.com/kevalsakhiya/property-scout.mlflow/#/experiments/7/runs/bea23389941d402e9ec41c2ffd601c5e.\n",
      "2024/08/02 15:30:59 INFO mlflow.tracking._tracking_service.client: 🧪 View experiment at: https://dagshub.com/kevalsakhiya/property-scout.mlflow/#/experiments/7.\n",
      "2024/08/02 15:31:01 INFO mlflow.tracking._tracking_service.client: 🏃 View run suave-koi-780 at: https://dagshub.com/kevalsakhiya/property-scout.mlflow/#/experiments/7/runs/dd6b603e9d4c43ddb9b79788190e6c58.\n",
      "2024/08/02 15:31:01 INFO mlflow.tracking._tracking_service.client: 🧪 View experiment at: https://dagshub.com/kevalsakhiya/property-scout.mlflow/#/experiments/7.\n",
      "2024/08/02 15:31:05 INFO mlflow.tracking._tracking_service.client: 🏃 View run marvelous-skunk-422 at: https://dagshub.com/kevalsakhiya/property-scout.mlflow/#/experiments/7/runs/248e704a514b4db58129ddf9c2ef281a.\n",
      "2024/08/02 15:31:05 INFO mlflow.tracking._tracking_service.client: 🧪 View experiment at: https://dagshub.com/kevalsakhiya/property-scout.mlflow/#/experiments/7.\n",
      "2024/08/02 15:31:08 INFO mlflow.tracking._tracking_service.client: 🏃 View run blushing-wolf-64 at: https://dagshub.com/kevalsakhiya/property-scout.mlflow/#/experiments/7/runs/7dea2253d5704a41abb640727d139c79.\n",
      "2024/08/02 15:31:08 INFO mlflow.tracking._tracking_service.client: 🧪 View experiment at: https://dagshub.com/kevalsakhiya/property-scout.mlflow/#/experiments/7.\n",
      "2024/08/02 15:31:10 INFO mlflow.tracking._tracking_service.client: 🏃 View run trusting-crab-226 at: https://dagshub.com/kevalsakhiya/property-scout.mlflow/#/experiments/7/runs/7089c06b5154421aa45462e8556b508a.\n",
      "2024/08/02 15:31:10 INFO mlflow.tracking._tracking_service.client: 🧪 View experiment at: https://dagshub.com/kevalsakhiya/property-scout.mlflow/#/experiments/7.\n",
      "2024/08/02 15:31:13 INFO mlflow.tracking._tracking_service.client: 🏃 View run masked-rat-739 at: https://dagshub.com/kevalsakhiya/property-scout.mlflow/#/experiments/7/runs/5d0e8847169f4eec8c9a1cc318b46d3b.\n",
      "2024/08/02 15:31:13 INFO mlflow.tracking._tracking_service.client: 🧪 View experiment at: https://dagshub.com/kevalsakhiya/property-scout.mlflow/#/experiments/7.\n",
      "2024/08/02 15:31:16 INFO mlflow.tracking._tracking_service.client: 🏃 View run polite-colt-873 at: https://dagshub.com/kevalsakhiya/property-scout.mlflow/#/experiments/7/runs/642a7ca8d792400c93f0e0de86028d96.\n",
      "2024/08/02 15:31:16 INFO mlflow.tracking._tracking_service.client: 🧪 View experiment at: https://dagshub.com/kevalsakhiya/property-scout.mlflow/#/experiments/7.\n",
      "2024/08/02 15:31:18 INFO mlflow.tracking._tracking_service.client: 🏃 View run wise-moose-631 at: https://dagshub.com/kevalsakhiya/property-scout.mlflow/#/experiments/7/runs/5978e95cd603410f8f65815788010f4b.\n",
      "2024/08/02 15:31:18 INFO mlflow.tracking._tracking_service.client: 🧪 View experiment at: https://dagshub.com/kevalsakhiya/property-scout.mlflow/#/experiments/7.\n",
      "2024/08/02 15:31:21 INFO mlflow.tracking._tracking_service.client: 🏃 View run illustrious-newt-836 at: https://dagshub.com/kevalsakhiya/property-scout.mlflow/#/experiments/7/runs/d46af8f9809446259472372054c7a32e.\n",
      "2024/08/02 15:31:21 INFO mlflow.tracking._tracking_service.client: 🧪 View experiment at: https://dagshub.com/kevalsakhiya/property-scout.mlflow/#/experiments/7.\n",
      "2024/08/02 15:31:24 INFO mlflow.tracking._tracking_service.client: 🏃 View run unique-calf-831 at: https://dagshub.com/kevalsakhiya/property-scout.mlflow/#/experiments/7/runs/187f8e9d0c0e4638b8ce3bfbc0325816.\n",
      "2024/08/02 15:31:24 INFO mlflow.tracking._tracking_service.client: 🧪 View experiment at: https://dagshub.com/kevalsakhiya/property-scout.mlflow/#/experiments/7.\n",
      "2024/08/02 15:31:27 INFO mlflow.tracking._tracking_service.client: 🏃 View run persistent-fawn-935 at: https://dagshub.com/kevalsakhiya/property-scout.mlflow/#/experiments/7/runs/3a40143d3dc149acaf84fc5f9e092a7f.\n",
      "2024/08/02 15:31:27 INFO mlflow.tracking._tracking_service.client: 🧪 View experiment at: https://dagshub.com/kevalsakhiya/property-scout.mlflow/#/experiments/7.\n",
      "2024/08/02 15:31:30 INFO mlflow.tracking._tracking_service.client: 🏃 View run carefree-wren-331 at: https://dagshub.com/kevalsakhiya/property-scout.mlflow/#/experiments/7/runs/efec51a45e824a3f8c62d54c240692b5.\n",
      "2024/08/02 15:31:30 INFO mlflow.tracking._tracking_service.client: 🧪 View experiment at: https://dagshub.com/kevalsakhiya/property-scout.mlflow/#/experiments/7.\n",
      "2024/08/02 15:31:33 INFO mlflow.tracking._tracking_service.client: 🏃 View run colorful-grub-61 at: https://dagshub.com/kevalsakhiya/property-scout.mlflow/#/experiments/7/runs/e3a20a4f568a486d8f0baba4146fab23.\n",
      "2024/08/02 15:31:33 INFO mlflow.tracking._tracking_service.client: 🧪 View experiment at: https://dagshub.com/kevalsakhiya/property-scout.mlflow/#/experiments/7.\n",
      "2024/08/02 15:31:35 INFO mlflow.tracking._tracking_service.client: 🏃 View run puzzled-koi-858 at: https://dagshub.com/kevalsakhiya/property-scout.mlflow/#/experiments/7/runs/31432ec0b7bc47c1935e02d0c1d49546.\n",
      "2024/08/02 15:31:35 INFO mlflow.tracking._tracking_service.client: 🧪 View experiment at: https://dagshub.com/kevalsakhiya/property-scout.mlflow/#/experiments/7.\n",
      "2024/08/02 15:31:39 INFO mlflow.tracking._tracking_service.client: 🏃 View run honorable-panda-810 at: https://dagshub.com/kevalsakhiya/property-scout.mlflow/#/experiments/7/runs/7c11dbd0de904483b8dac4adf6da0d53.\n",
      "2024/08/02 15:31:39 INFO mlflow.tracking._tracking_service.client: 🧪 View experiment at: https://dagshub.com/kevalsakhiya/property-scout.mlflow/#/experiments/7.\n",
      "2024/08/02 15:31:41 INFO mlflow.tracking._tracking_service.client: 🏃 View run intrigued-duck-795 at: https://dagshub.com/kevalsakhiya/property-scout.mlflow/#/experiments/7/runs/f54533482fe1477aace8188e803dd191.\n",
      "2024/08/02 15:31:41 INFO mlflow.tracking._tracking_service.client: 🧪 View experiment at: https://dagshub.com/kevalsakhiya/property-scout.mlflow/#/experiments/7.\n",
      "2024/08/02 15:31:44 INFO mlflow.tracking._tracking_service.client: 🏃 View run resilient-pug-24 at: https://dagshub.com/kevalsakhiya/property-scout.mlflow/#/experiments/7/runs/41764806815444778e0f7b0338d269da.\n",
      "2024/08/02 15:31:44 INFO mlflow.tracking._tracking_service.client: 🧪 View experiment at: https://dagshub.com/kevalsakhiya/property-scout.mlflow/#/experiments/7.\n",
      "2024/08/02 15:31:47 INFO mlflow.tracking._tracking_service.client: 🏃 View run unique-perch-17 at: https://dagshub.com/kevalsakhiya/property-scout.mlflow/#/experiments/7/runs/3348313fa3fe4934b1815c20b068e9ce.\n",
      "2024/08/02 15:31:47 INFO mlflow.tracking._tracking_service.client: 🧪 View experiment at: https://dagshub.com/kevalsakhiya/property-scout.mlflow/#/experiments/7.\n",
      "2024/08/02 15:31:50 INFO mlflow.tracking._tracking_service.client: 🏃 View run bedecked-midge-735 at: https://dagshub.com/kevalsakhiya/property-scout.mlflow/#/experiments/7/runs/eb3d094188db46cfaafe54169d647e4c.\n",
      "2024/08/02 15:31:50 INFO mlflow.tracking._tracking_service.client: 🧪 View experiment at: https://dagshub.com/kevalsakhiya/property-scout.mlflow/#/experiments/7.\n",
      "2024/08/02 15:31:53 INFO mlflow.tracking._tracking_service.client: 🏃 View run amusing-zebra-446 at: https://dagshub.com/kevalsakhiya/property-scout.mlflow/#/experiments/7/runs/813f4a1b03fb46189a7523b039756ff2.\n",
      "2024/08/02 15:31:53 INFO mlflow.tracking._tracking_service.client: 🧪 View experiment at: https://dagshub.com/kevalsakhiya/property-scout.mlflow/#/experiments/7.\n",
      "2024/08/02 15:31:56 INFO mlflow.tracking._tracking_service.client: 🏃 View run nebulous-pig-633 at: https://dagshub.com/kevalsakhiya/property-scout.mlflow/#/experiments/7/runs/854fd3ee8a6e4469a5b87bb7739cb81a.\n",
      "2024/08/02 15:31:56 INFO mlflow.tracking._tracking_service.client: 🧪 View experiment at: https://dagshub.com/kevalsakhiya/property-scout.mlflow/#/experiments/7.\n",
      "2024/08/02 15:31:58 INFO mlflow.tracking._tracking_service.client: 🏃 View run agreeable-snail-716 at: https://dagshub.com/kevalsakhiya/property-scout.mlflow/#/experiments/7/runs/e2ac82ada3e8490185a7cda908d82981.\n",
      "2024/08/02 15:31:58 INFO mlflow.tracking._tracking_service.client: 🧪 View experiment at: https://dagshub.com/kevalsakhiya/property-scout.mlflow/#/experiments/7.\n",
      "2024/08/02 15:32:01 INFO mlflow.tracking._tracking_service.client: 🏃 View run abundant-auk-876 at: https://dagshub.com/kevalsakhiya/property-scout.mlflow/#/experiments/7/runs/ce70dab5698644a2a06dcc37687ca863.\n",
      "2024/08/02 15:32:01 INFO mlflow.tracking._tracking_service.client: 🧪 View experiment at: https://dagshub.com/kevalsakhiya/property-scout.mlflow/#/experiments/7.\n",
      "2024/08/02 15:32:04 INFO mlflow.tracking._tracking_service.client: 🏃 View run worried-crow-917 at: https://dagshub.com/kevalsakhiya/property-scout.mlflow/#/experiments/7/runs/440f708720074731a46e7f9a5cd31afa.\n",
      "2024/08/02 15:32:04 INFO mlflow.tracking._tracking_service.client: 🧪 View experiment at: https://dagshub.com/kevalsakhiya/property-scout.mlflow/#/experiments/7.\n",
      "2024/08/02 15:32:08 INFO mlflow.tracking._tracking_service.client: 🏃 View run learned-bee-499 at: https://dagshub.com/kevalsakhiya/property-scout.mlflow/#/experiments/7/runs/2c85c49f0d1a40ffb557932394606213.\n",
      "2024/08/02 15:32:08 INFO mlflow.tracking._tracking_service.client: 🧪 View experiment at: https://dagshub.com/kevalsakhiya/property-scout.mlflow/#/experiments/7.\n",
      "2024/08/02 15:32:11 INFO mlflow.tracking._tracking_service.client: 🏃 View run rare-robin-259 at: https://dagshub.com/kevalsakhiya/property-scout.mlflow/#/experiments/7/runs/75edcac626714fa4909cb170ee9713b2.\n",
      "2024/08/02 15:32:11 INFO mlflow.tracking._tracking_service.client: 🧪 View experiment at: https://dagshub.com/kevalsakhiya/property-scout.mlflow/#/experiments/7.\n",
      "2024/08/02 15:32:14 INFO mlflow.tracking._tracking_service.client: 🏃 View run monumental-newt-674 at: https://dagshub.com/kevalsakhiya/property-scout.mlflow/#/experiments/7/runs/0146cc4b35164ef086e8affcdefe3086.\n",
      "2024/08/02 15:32:14 INFO mlflow.tracking._tracking_service.client: 🧪 View experiment at: https://dagshub.com/kevalsakhiya/property-scout.mlflow/#/experiments/7.\n",
      "2024/08/02 15:32:18 INFO mlflow.tracking._tracking_service.client: 🏃 View run smiling-shark-863 at: https://dagshub.com/kevalsakhiya/property-scout.mlflow/#/experiments/7/runs/ef93964058304761bff054ddc1209d71.\n",
      "2024/08/02 15:32:18 INFO mlflow.tracking._tracking_service.client: 🧪 View experiment at: https://dagshub.com/kevalsakhiya/property-scout.mlflow/#/experiments/7.\n",
      "2024/08/02 15:32:21 INFO mlflow.tracking._tracking_service.client: 🏃 View run polite-shad-702 at: https://dagshub.com/kevalsakhiya/property-scout.mlflow/#/experiments/7/runs/5176727e85c6439b9f7833a5f29190b1.\n",
      "2024/08/02 15:32:21 INFO mlflow.tracking._tracking_service.client: 🧪 View experiment at: https://dagshub.com/kevalsakhiya/property-scout.mlflow/#/experiments/7.\n",
      "2024/08/02 15:32:39 INFO mlflow.tracking._tracking_service.client: 🏃 View run tasteful-croc-22 at: https://dagshub.com/kevalsakhiya/property-scout.mlflow/#/experiments/7/runs/852ca9b95e464079a83ced738b74f9e5.\n",
      "2024/08/02 15:32:39 INFO mlflow.tracking._tracking_service.client: 🧪 View experiment at: https://dagshub.com/kevalsakhiya/property-scout.mlflow/#/experiments/7.\n",
      "2024/08/02 15:32:42 INFO mlflow.tracking._tracking_service.client: 🏃 View run resilient-slug-377 at: https://dagshub.com/kevalsakhiya/property-scout.mlflow/#/experiments/7/runs/e77c7b9233c44297b0ef374c188b9572.\n",
      "2024/08/02 15:32:42 INFO mlflow.tracking._tracking_service.client: 🧪 View experiment at: https://dagshub.com/kevalsakhiya/property-scout.mlflow/#/experiments/7.\n",
      "2024/08/02 15:32:46 INFO mlflow.tracking._tracking_service.client: 🏃 View run placid-auk-337 at: https://dagshub.com/kevalsakhiya/property-scout.mlflow/#/experiments/7/runs/f6b84fb2bc5649a3b804bad8e70030d1.\n",
      "2024/08/02 15:32:46 INFO mlflow.tracking._tracking_service.client: 🧪 View experiment at: https://dagshub.com/kevalsakhiya/property-scout.mlflow/#/experiments/7.\n",
      "2024/08/02 15:32:46 INFO mlflow.tracking._tracking_service.client: 🏃 View run bold-mink-828 at: https://dagshub.com/kevalsakhiya/property-scout.mlflow/#/experiments/7/runs/712ea03031824c5687b4dad68beb51da.\n",
      "2024/08/02 15:32:46 INFO mlflow.tracking._tracking_service.client: 🧪 View experiment at: https://dagshub.com/kevalsakhiya/property-scout.mlflow/#/experiments/7.\n"
     ]
    }
   ],
   "source": [
    "mlflow.set_experiment('SVR-hyperparameter-tuning')\n",
    "mlflow.autolog()\n",
    "with mlflow.start_run():\n",
    "    grid_search.fit(X_train, y_train)\n",
    "    results = grid_search.cv_results_\n",
    "\n",
    "    for i in range(len(results['params'])):\n",
    "        with mlflow.start_run(nested=True):\n",
    "            mlflow.log_params(results['params'][i])\n",
    "            \n",
    "            # r2 score\n",
    "            mean_r2_score = results['mean_test_r2'][i]\n",
    "            mlflow.log_metric('mean_r2_score',mean_r2_score)\n",
    "\n",
    "            # mean mse\n",
    "            mean_mse_score = -results['mean_test_mse'][i]\n",
    "            mlflow.log_metric('mean_mse_score', mean_mse_score)"
   ]
  },
  {
   "cell_type": "code",
   "execution_count": 16,
   "metadata": {},
   "outputs": [
    {
     "name": "stdout",
     "output_type": "stream",
     "text": [
      "Best parameters found:  {'C': 1, 'epsilon': 0.01, 'gamma': 0.1, 'kernel': 'rbf'}\n"
     ]
    }
   ],
   "source": [
    "best_params = grid_search.best_params_\n",
    "best_estimator = grid_search.best_estimator_\n",
    "\n",
    "# Print the best parameters\n",
    "print(\"Best parameters found: \", best_params)"
   ]
  },
  {
   "cell_type": "code",
   "execution_count": 17,
   "metadata": {},
   "outputs": [
    {
     "data": {
      "text/plain": [
       "(0.034955629001406585, 0.8810501881173792)"
      ]
     },
     "execution_count": 17,
     "metadata": {},
     "output_type": "execute_result"
    }
   ],
   "source": [
    "y_pred = best_estimator.predict(X_test)\n",
    "mse = mean_squared_error(y_test, y_pred)\n",
    "r2 = r2_score(y_test, y_pred)\n",
    "\n",
    "mse,r2"
   ]
  }
 ],
 "metadata": {
  "kernelspec": {
   "display_name": ".venv",
   "language": "python",
   "name": "python3"
  },
  "language_info": {
   "codemirror_mode": {
    "name": "ipython",
    "version": 3
   },
   "file_extension": ".py",
   "mimetype": "text/x-python",
   "name": "python",
   "nbconvert_exporter": "python",
   "pygments_lexer": "ipython3",
   "version": "3.12.3"
  }
 },
 "nbformat": 4,
 "nbformat_minor": 2
}
