{
 "cells": [
  {
   "cell_type": "code",
   "execution_count": 48,
   "metadata": {},
   "outputs": [],
   "source": [
    "import mlflow\n",
    "import dagshub\n",
    "import pandas as pd\n",
    "import numpy as np\n",
    "from xgboost import XGBRegressor\n",
    "\n",
    "from sklearn.model_selection import train_test_split,GridSearchCV\n",
    "from sklearn.compose import ColumnTransformer\n",
    "from sklearn.preprocessing import StandardScaler, OneHotEncoder\n",
    "from sklearn.metrics import mean_squared_error, r2_score, make_scorer\n"
   ]
  },
  {
   "cell_type": "code",
   "execution_count": 2,
   "metadata": {},
   "outputs": [],
   "source": [
    "df = pd.read_csv('../../data/processed/gurgaon_properties_post_feature_selection.csv')"
   ]
  },
  {
   "cell_type": "code",
   "execution_count": 3,
   "metadata": {},
   "outputs": [],
   "source": [
    "X = df.drop(columns=['price'])\n",
    "y = df['price']"
   ]
  },
  {
   "cell_type": "code",
   "execution_count": 4,
   "metadata": {},
   "outputs": [],
   "source": [
    "y = np.log1p(y)"
   ]
  },
  {
   "cell_type": "code",
   "execution_count": 5,
   "metadata": {},
   "outputs": [],
   "source": [
    "columns_to_scale = ['property_type', 'bedRoom', 'bathroom', 'built_up_area', 'servant room', 'store room']\n",
    "columns_to_encode = ['sector', 'balcony', 'agePossession', 'furnishing_type', 'luxury_category', 'floor_category']\n",
    "\n",
    "preprocessor = ColumnTransformer(\n",
    "    transformers=[\n",
    "        ('num', StandardScaler(), columns_to_scale),\n",
    "        ('cat', OneHotEncoder(drop='first'), columns_to_encode)\n",
    "    ],\n",
    "    remainder='passthrough'\n",
    ")\n",
    "\n",
    "X = preprocessor.fit_transform(X)"
   ]
  },
  {
   "cell_type": "code",
   "execution_count": 24,
   "metadata": {},
   "outputs": [
    {
     "data": {
      "text/html": [
       "<pre style=\"white-space:pre;overflow-x:auto;line-height:normal;font-family:Menlo,'DejaVu Sans Mono',consolas,'Courier New',monospace\">Initialized MLflow to track repo <span style=\"color: #008000; text-decoration-color: #008000\">\"kevalsakhiya/property-scout\"</span>\n",
       "</pre>\n"
      ],
      "text/plain": [
       "Initialized MLflow to track repo \u001b[32m\"kevalsakhiya/property-scout\"\u001b[0m\n"
      ]
     },
     "metadata": {},
     "output_type": "display_data"
    },
    {
     "data": {
      "text/html": [
       "<pre style=\"white-space:pre;overflow-x:auto;line-height:normal;font-family:Menlo,'DejaVu Sans Mono',consolas,'Courier New',monospace\">Repository kevalsakhiya/property-scout initialized!\n",
       "</pre>\n"
      ],
      "text/plain": [
       "Repository kevalsakhiya/property-scout initialized!\n"
      ]
     },
     "metadata": {},
     "output_type": "display_data"
    }
   ],
   "source": [
    "import dagshub\n",
    "import mlflow\n",
    "\n",
    "dagshub.init(repo_owner='kevalsakhiya', repo_name='property-scout', mlflow=True)\n",
    "mlflow.set_tracking_uri('https://dagshub.com/kevalsakhiya/property-scout.mlflow')"
   ]
  },
  {
   "cell_type": "code",
   "execution_count": 7,
   "metadata": {},
   "outputs": [],
   "source": [
    "X_train, X_test, y_train, y_test = train_test_split(X, y, test_size=0.2, random_state=42)\n",
    "\n",
    "\n",
    "xgboost_model = XGBRegressor()\n",
    "\n",
    "# Define the parameter grid\n",
    "param_grid = {\n",
    "    'n_estimators': [1300],\n",
    "    'max_depth': [3],\n",
    "    'learning_rate': [0.04,0.05],\n",
    "    'subsample': [0.8,0.9,1.0],\n",
    "    'colsample_bytree': [1.0,0.9,0.8]\n",
    "}\n"
   ]
  },
  {
   "cell_type": "code",
   "execution_count": 49,
   "metadata": {},
   "outputs": [],
   "source": [
    "scoring = {'mse': make_scorer(mean_squared_error, greater_is_better=False),\n",
    "           'r2': make_scorer(r2_score)}\n",
    "\n",
    "grid_search = GridSearchCV(estimator=xgboost_model, \n",
    "                           param_grid=param_grid, \n",
    "                           refit='r2',\n",
    "                           cv=5, \n",
    "                           scoring=scoring, \n",
    "                           verbose=1, \n",
    "                           n_jobs=-1)\n",
    "\n",
    "\n",
    "# grid_search.fit(X_train, y_train)"
   ]
  },
  {
   "cell_type": "code",
   "execution_count": 53,
   "metadata": {},
   "outputs": [
    {
     "name": "stderr",
     "output_type": "stream",
     "text": [
      "2024/08/02 13:01:03 INFO mlflow.tracking.fluent: Autologging successfully enabled for xgboost.\n",
      "2024/08/02 13:01:03 INFO mlflow.tracking.fluent: Autologging successfully enabled for sklearn.\n",
      "2024/08/02 13:01:04 WARNING mlflow.sklearn: Failed to log training dataset information to MLflow Tracking. Reason: 'Series' object has no attribute 'toarray'\n"
     ]
    },
    {
     "name": "stdout",
     "output_type": "stream",
     "text": [
      "Fitting 5 folds for each of 18 candidates, totalling 90 fits\n"
     ]
    },
    {
     "name": "stderr",
     "output_type": "stream",
     "text": [
      "2024/08/02 13:01:23 WARNING mlflow.utils.autologging_utils: MLflow autologging encountered a warning: \"/home/keval/Desktop/work/machine_learning/property-scout/.venv/lib/python3.12/site-packages/mlflow/sklearn/utils.py:808: UserWarning: Top 5 child runs will be created based on ordering in rank_test_mse column.  You can choose not to limit the number of child runs created by setting `max_tuning_runs=None`.\"\n",
      "2024/08/02 13:01:23 INFO mlflow.sklearn.utils: Logging the 5 best runs, 13 runs will be omitted.\n",
      "2024/08/02 13:01:28 INFO mlflow.tracking._tracking_service.client: 🏃 View run dapper-ape-32 at: https://dagshub.com/kevalsakhiya/property-scout.mlflow/#/experiments/5/runs/0443a8a6c6334107b190d3f523aa4853.\n",
      "2024/08/02 13:01:28 INFO mlflow.tracking._tracking_service.client: 🧪 View experiment at: https://dagshub.com/kevalsakhiya/property-scout.mlflow/#/experiments/5.\n",
      "2024/08/02 13:01:31 INFO mlflow.tracking._tracking_service.client: 🏃 View run exultant-sheep-751 at: https://dagshub.com/kevalsakhiya/property-scout.mlflow/#/experiments/5/runs/e4f8200c35a64609a3b68940892dacfb.\n",
      "2024/08/02 13:01:31 INFO mlflow.tracking._tracking_service.client: 🧪 View experiment at: https://dagshub.com/kevalsakhiya/property-scout.mlflow/#/experiments/5.\n",
      "2024/08/02 13:01:34 INFO mlflow.tracking._tracking_service.client: 🏃 View run placid-grouse-469 at: https://dagshub.com/kevalsakhiya/property-scout.mlflow/#/experiments/5/runs/d0394d9e15e24ce8ad768933177d79a2.\n",
      "2024/08/02 13:01:34 INFO mlflow.tracking._tracking_service.client: 🧪 View experiment at: https://dagshub.com/kevalsakhiya/property-scout.mlflow/#/experiments/5.\n",
      "2024/08/02 13:01:37 INFO mlflow.tracking._tracking_service.client: 🏃 View run zealous-shrew-75 at: https://dagshub.com/kevalsakhiya/property-scout.mlflow/#/experiments/5/runs/e528a91f69614cfeb7db61672e65c5ee.\n",
      "2024/08/02 13:01:37 INFO mlflow.tracking._tracking_service.client: 🧪 View experiment at: https://dagshub.com/kevalsakhiya/property-scout.mlflow/#/experiments/5.\n",
      "2024/08/02 13:01:41 INFO mlflow.tracking._tracking_service.client: 🏃 View run righteous-shad-130 at: https://dagshub.com/kevalsakhiya/property-scout.mlflow/#/experiments/5/runs/2f9625cee28847c696a164d1519170b7.\n",
      "2024/08/02 13:01:41 INFO mlflow.tracking._tracking_service.client: 🧪 View experiment at: https://dagshub.com/kevalsakhiya/property-scout.mlflow/#/experiments/5.\n",
      "2024/08/02 13:01:43 INFO mlflow.tracking._tracking_service.client: 🏃 View run powerful-snake-631 at: https://dagshub.com/kevalsakhiya/property-scout.mlflow/#/experiments/5/runs/09e4d0b7059c4904a6994f8223fae789.\n",
      "2024/08/02 13:01:43 INFO mlflow.tracking._tracking_service.client: 🧪 View experiment at: https://dagshub.com/kevalsakhiya/property-scout.mlflow/#/experiments/5.\n",
      "2024/08/02 13:01:47 INFO mlflow.tracking._tracking_service.client: 🏃 View run unique-horse-726 at: https://dagshub.com/kevalsakhiya/property-scout.mlflow/#/experiments/5/runs/dbddfc2615af42f38443d86e58afdb49.\n",
      "2024/08/02 13:01:47 INFO mlflow.tracking._tracking_service.client: 🧪 View experiment at: https://dagshub.com/kevalsakhiya/property-scout.mlflow/#/experiments/5.\n",
      "2024/08/02 13:01:50 INFO mlflow.tracking._tracking_service.client: 🏃 View run bemused-skink-264 at: https://dagshub.com/kevalsakhiya/property-scout.mlflow/#/experiments/5/runs/d4de701ca8b649a681644229a9b0ae43.\n",
      "2024/08/02 13:01:50 INFO mlflow.tracking._tracking_service.client: 🧪 View experiment at: https://dagshub.com/kevalsakhiya/property-scout.mlflow/#/experiments/5.\n",
      "2024/08/02 13:01:53 INFO mlflow.tracking._tracking_service.client: 🏃 View run masked-shad-670 at: https://dagshub.com/kevalsakhiya/property-scout.mlflow/#/experiments/5/runs/28f776ff64dc4d2d9e819a37e17eea01.\n",
      "2024/08/02 13:01:53 INFO mlflow.tracking._tracking_service.client: 🧪 View experiment at: https://dagshub.com/kevalsakhiya/property-scout.mlflow/#/experiments/5.\n",
      "2024/08/02 13:01:56 INFO mlflow.tracking._tracking_service.client: 🏃 View run useful-pig-248 at: https://dagshub.com/kevalsakhiya/property-scout.mlflow/#/experiments/5/runs/9c1bab0e236a41d482499a61a9ee13ae.\n",
      "2024/08/02 13:01:56 INFO mlflow.tracking._tracking_service.client: 🧪 View experiment at: https://dagshub.com/kevalsakhiya/property-scout.mlflow/#/experiments/5.\n",
      "2024/08/02 13:01:59 INFO mlflow.tracking._tracking_service.client: 🏃 View run stylish-owl-950 at: https://dagshub.com/kevalsakhiya/property-scout.mlflow/#/experiments/5/runs/48ff538e033f46b3877ac60d9364e646.\n",
      "2024/08/02 13:01:59 INFO mlflow.tracking._tracking_service.client: 🧪 View experiment at: https://dagshub.com/kevalsakhiya/property-scout.mlflow/#/experiments/5.\n",
      "2024/08/02 13:02:02 INFO mlflow.tracking._tracking_service.client: 🏃 View run wistful-hare-513 at: https://dagshub.com/kevalsakhiya/property-scout.mlflow/#/experiments/5/runs/138d5d53cf1d42c29340d8672ec89bbe.\n",
      "2024/08/02 13:02:02 INFO mlflow.tracking._tracking_service.client: 🧪 View experiment at: https://dagshub.com/kevalsakhiya/property-scout.mlflow/#/experiments/5.\n",
      "2024/08/02 13:02:06 INFO mlflow.tracking._tracking_service.client: 🏃 View run delicate-crane-678 at: https://dagshub.com/kevalsakhiya/property-scout.mlflow/#/experiments/5/runs/a32a26d883614c3e90dcd4b09952f6c2.\n",
      "2024/08/02 13:02:06 INFO mlflow.tracking._tracking_service.client: 🧪 View experiment at: https://dagshub.com/kevalsakhiya/property-scout.mlflow/#/experiments/5.\n",
      "2024/08/02 13:02:09 INFO mlflow.tracking._tracking_service.client: 🏃 View run selective-toad-76 at: https://dagshub.com/kevalsakhiya/property-scout.mlflow/#/experiments/5/runs/297ccd72af2a49e6945d0c6ba5bc5759.\n",
      "2024/08/02 13:02:09 INFO mlflow.tracking._tracking_service.client: 🧪 View experiment at: https://dagshub.com/kevalsakhiya/property-scout.mlflow/#/experiments/5.\n",
      "2024/08/02 13:02:12 INFO mlflow.tracking._tracking_service.client: 🏃 View run agreeable-gnu-821 at: https://dagshub.com/kevalsakhiya/property-scout.mlflow/#/experiments/5/runs/5b717ba44d6e4899935db4b52bced828.\n",
      "2024/08/02 13:02:12 INFO mlflow.tracking._tracking_service.client: 🧪 View experiment at: https://dagshub.com/kevalsakhiya/property-scout.mlflow/#/experiments/5.\n",
      "2024/08/02 13:02:15 INFO mlflow.tracking._tracking_service.client: 🏃 View run abundant-croc-647 at: https://dagshub.com/kevalsakhiya/property-scout.mlflow/#/experiments/5/runs/ca4c619542a741859700ff209a6be81c.\n",
      "2024/08/02 13:02:15 INFO mlflow.tracking._tracking_service.client: 🧪 View experiment at: https://dagshub.com/kevalsakhiya/property-scout.mlflow/#/experiments/5.\n",
      "2024/08/02 13:02:18 INFO mlflow.tracking._tracking_service.client: 🏃 View run peaceful-bird-313 at: https://dagshub.com/kevalsakhiya/property-scout.mlflow/#/experiments/5/runs/1cad4fdd066140cd96bac9c7a8927f5f.\n",
      "2024/08/02 13:02:18 INFO mlflow.tracking._tracking_service.client: 🧪 View experiment at: https://dagshub.com/kevalsakhiya/property-scout.mlflow/#/experiments/5.\n",
      "2024/08/02 13:02:21 INFO mlflow.tracking._tracking_service.client: 🏃 View run abundant-croc-852 at: https://dagshub.com/kevalsakhiya/property-scout.mlflow/#/experiments/5/runs/2a521d593ab04af3bf4e9298b26c858e.\n",
      "2024/08/02 13:02:21 INFO mlflow.tracking._tracking_service.client: 🧪 View experiment at: https://dagshub.com/kevalsakhiya/property-scout.mlflow/#/experiments/5.\n",
      "2024/08/02 13:02:22 INFO mlflow.tracking._tracking_service.client: 🏃 View run calm-smelt-897 at: https://dagshub.com/kevalsakhiya/property-scout.mlflow/#/experiments/5/runs/a12e58bf4c3f41bab97b1b69a1eb2344.\n",
      "2024/08/02 13:02:22 INFO mlflow.tracking._tracking_service.client: 🧪 View experiment at: https://dagshub.com/kevalsakhiya/property-scout.mlflow/#/experiments/5.\n"
     ]
    }
   ],
   "source": [
    "mlflow.set_experiment('XGBoost-hyperparameter-tuning')\n",
    "mlflow.autolog()\n",
    "with mlflow.start_run():\n",
    "    grid_search.fit(X_train, y_train)\n",
    "    results = grid_search.cv_results_\n",
    "\n",
    "    for i in range(len(results['params'])):\n",
    "        with mlflow.start_run(nested=True):\n",
    "            mlflow.log_params(results['params'][i])\n",
    "            \n",
    "            # r2 score\n",
    "            mean_r2_score = results['mean_test_r2'][i]\n",
    "            mlflow.log_metric('mean_r2_score',mean_r2_score)\n",
    "\n",
    "            # mean mse\n",
    "            mean_mse_score = -results['mean_test_mse'][i]\n",
    "            mlflow.log_metric('mean_mse_score', mean_mse_score)"
   ]
  },
  {
   "cell_type": "code",
   "execution_count": 51,
   "metadata": {},
   "outputs": [
    {
     "name": "stdout",
     "output_type": "stream",
     "text": [
      "Best parameters found:  {'colsample_bytree': 0.9, 'learning_rate': 0.05, 'max_depth': 3, 'n_estimators': 1300, 'subsample': 0.8}\n"
     ]
    }
   ],
   "source": [
    "best_params = grid_search.best_params_\n",
    "best_estimator = grid_search.best_estimator_\n",
    "\n",
    "# Print the best parameters\n",
    "print(\"Best parameters found: \", best_params)"
   ]
  },
  {
   "cell_type": "code",
   "execution_count": 54,
   "metadata": {},
   "outputs": [
    {
     "data": {
      "text/plain": [
       "(0.0320801020886557, 0.8908352612259582)"
      ]
     },
     "execution_count": 54,
     "metadata": {},
     "output_type": "execute_result"
    }
   ],
   "source": [
    "y_pred = best_estimator.predict(X_test)\n",
    "mse = mean_squared_error(y_test, y_pred)\n",
    "r2 = r2_score(y_test, y_pred)\n",
    "\n",
    "mse,r2"
   ]
  }
 ],
 "metadata": {
  "kernelspec": {
   "display_name": ".venv",
   "language": "python",
   "name": "python3"
  },
  "language_info": {
   "codemirror_mode": {
    "name": "ipython",
    "version": 3
   },
   "file_extension": ".py",
   "mimetype": "text/x-python",
   "name": "python",
   "nbconvert_exporter": "python",
   "pygments_lexer": "ipython3",
   "version": "3.12.3"
  }
 },
 "nbformat": 4,
 "nbformat_minor": 2
}
