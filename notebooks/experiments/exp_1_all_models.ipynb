{
 "cells": [
  {
   "cell_type": "code",
   "execution_count": 1,
   "metadata": {},
   "outputs": [],
   "source": [
    "import dagshub\n",
    "import pandas as pd\n",
    "import numpy as np\n",
    "from pathlib import Path\n",
    "from sklearn.svm import SVR\n",
    "from sklearn.model_selection import train_test_split\n",
    "from sklearn.compose import ColumnTransformer\n",
    "from sklearn.preprocessing import StandardScaler, OneHotEncoder\n",
    "from sklearn.linear_model import LinearRegression\n",
    "from sklearn.tree import DecisionTreeRegressor\n",
    "from sklearn.ensemble import RandomForestRegressor, GradientBoostingRegressor, AdaBoostRegressor\n",
    "from sklearn.neighbors import KNeighborsRegressor\n",
    "from sklearn.metrics import mean_squared_error, r2_score\n",
    "from xgboost import XGBRegressor\n",
    "import mlflow\n",
    "import sys"
   ]
  },
  {
   "cell_type": "code",
   "execution_count": 2,
   "metadata": {},
   "outputs": [],
   "source": [
    "df = pd.read_csv('../../data/processed/gurgaon_properties_post_feature_selection.csv')"
   ]
  },
  {
   "cell_type": "code",
   "execution_count": 3,
   "metadata": {},
   "outputs": [
    {
     "name": "stdout",
     "output_type": "stream",
     "text": [
      "<class 'pandas.core.frame.DataFrame'>\n",
      "RangeIndex: 3544 entries, 0 to 3543\n",
      "Data columns (total 13 columns):\n",
      " #   Column           Non-Null Count  Dtype  \n",
      "---  ------           --------------  -----  \n",
      " 0   property_type    3544 non-null   float64\n",
      " 1   sector           3544 non-null   float64\n",
      " 2   bedRoom          3544 non-null   int64  \n",
      " 3   bathroom         3544 non-null   int64  \n",
      " 4   balcony          3544 non-null   float64\n",
      " 5   agePossession    3544 non-null   float64\n",
      " 6   built_up_area    3544 non-null   float64\n",
      " 7   servant room     3544 non-null   int64  \n",
      " 8   store room       3544 non-null   int64  \n",
      " 9   furnishing_type  3544 non-null   int64  \n",
      " 10  luxury_category  3544 non-null   float64\n",
      " 11  floor_category   3544 non-null   float64\n",
      " 12  price            3544 non-null   float64\n",
      "dtypes: float64(8), int64(5)\n",
      "memory usage: 360.1 KB\n"
     ]
    }
   ],
   "source": [
    "df.info()"
   ]
  },
  {
   "cell_type": "code",
   "execution_count": 4,
   "metadata": {},
   "outputs": [
    {
     "data": {
      "text/html": [
       "<div>\n",
       "<style scoped>\n",
       "    .dataframe tbody tr th:only-of-type {\n",
       "        vertical-align: middle;\n",
       "    }\n",
       "\n",
       "    .dataframe tbody tr th {\n",
       "        vertical-align: top;\n",
       "    }\n",
       "\n",
       "    .dataframe thead th {\n",
       "        text-align: right;\n",
       "    }\n",
       "</style>\n",
       "<table border=\"1\" class=\"dataframe\">\n",
       "  <thead>\n",
       "    <tr style=\"text-align: right;\">\n",
       "      <th></th>\n",
       "      <th>property_type</th>\n",
       "      <th>sector</th>\n",
       "      <th>bedRoom</th>\n",
       "      <th>bathroom</th>\n",
       "      <th>balcony</th>\n",
       "      <th>agePossession</th>\n",
       "      <th>built_up_area</th>\n",
       "      <th>servant room</th>\n",
       "      <th>store room</th>\n",
       "      <th>furnishing_type</th>\n",
       "      <th>luxury_category</th>\n",
       "      <th>floor_category</th>\n",
       "      <th>price</th>\n",
       "    </tr>\n",
       "  </thead>\n",
       "  <tbody>\n",
       "    <tr>\n",
       "      <th>count</th>\n",
       "      <td>3544.000000</td>\n",
       "      <td>3544.000000</td>\n",
       "      <td>3544.000000</td>\n",
       "      <td>3544.000000</td>\n",
       "      <td>3544.000000</td>\n",
       "      <td>3544.000000</td>\n",
       "      <td>3544.000000</td>\n",
       "      <td>3544.000000</td>\n",
       "      <td>3544.000000</td>\n",
       "      <td>3544.000000</td>\n",
       "      <td>3544.000000</td>\n",
       "      <td>3544.000000</td>\n",
       "      <td>3544.000000</td>\n",
       "    </tr>\n",
       "    <tr>\n",
       "      <th>mean</th>\n",
       "      <td>0.209368</td>\n",
       "      <td>56.864842</td>\n",
       "      <td>3.185948</td>\n",
       "      <td>3.260722</td>\n",
       "      <td>2.724323</td>\n",
       "      <td>2.128104</td>\n",
       "      <td>1844.961941</td>\n",
       "      <td>0.356941</td>\n",
       "      <td>0.089729</td>\n",
       "      <td>0.389673</td>\n",
       "      <td>1.271445</td>\n",
       "      <td>1.280192</td>\n",
       "      <td>2.409478</td>\n",
       "    </tr>\n",
       "    <tr>\n",
       "      <th>std</th>\n",
       "      <td>0.406915</td>\n",
       "      <td>32.633418</td>\n",
       "      <td>1.369444</td>\n",
       "      <td>1.441012</td>\n",
       "      <td>1.142125</td>\n",
       "      <td>1.281872</td>\n",
       "      <td>1192.853881</td>\n",
       "      <td>0.479165</td>\n",
       "      <td>0.285834</td>\n",
       "      <td>0.584604</td>\n",
       "      <td>0.690419</td>\n",
       "      <td>0.809339</td>\n",
       "      <td>2.758567</td>\n",
       "    </tr>\n",
       "    <tr>\n",
       "      <th>min</th>\n",
       "      <td>0.000000</td>\n",
       "      <td>0.000000</td>\n",
       "      <td>1.000000</td>\n",
       "      <td>1.000000</td>\n",
       "      <td>0.000000</td>\n",
       "      <td>0.000000</td>\n",
       "      <td>33.000000</td>\n",
       "      <td>0.000000</td>\n",
       "      <td>0.000000</td>\n",
       "      <td>0.000000</td>\n",
       "      <td>0.000000</td>\n",
       "      <td>0.000000</td>\n",
       "      <td>0.070000</td>\n",
       "    </tr>\n",
       "    <tr>\n",
       "      <th>25%</th>\n",
       "      <td>0.000000</td>\n",
       "      <td>28.000000</td>\n",
       "      <td>2.000000</td>\n",
       "      <td>2.000000</td>\n",
       "      <td>2.000000</td>\n",
       "      <td>1.000000</td>\n",
       "      <td>1200.000000</td>\n",
       "      <td>0.000000</td>\n",
       "      <td>0.000000</td>\n",
       "      <td>0.000000</td>\n",
       "      <td>1.000000</td>\n",
       "      <td>1.000000</td>\n",
       "      <td>0.950000</td>\n",
       "    </tr>\n",
       "    <tr>\n",
       "      <th>50%</th>\n",
       "      <td>0.000000</td>\n",
       "      <td>63.000000</td>\n",
       "      <td>3.000000</td>\n",
       "      <td>3.000000</td>\n",
       "      <td>3.000000</td>\n",
       "      <td>3.000000</td>\n",
       "      <td>1611.000000</td>\n",
       "      <td>0.000000</td>\n",
       "      <td>0.000000</td>\n",
       "      <td>0.000000</td>\n",
       "      <td>1.000000</td>\n",
       "      <td>2.000000</td>\n",
       "      <td>1.500000</td>\n",
       "    </tr>\n",
       "    <tr>\n",
       "      <th>75%</th>\n",
       "      <td>0.000000</td>\n",
       "      <td>87.000000</td>\n",
       "      <td>4.000000</td>\n",
       "      <td>4.000000</td>\n",
       "      <td>4.000000</td>\n",
       "      <td>3.000000</td>\n",
       "      <td>2191.500000</td>\n",
       "      <td>1.000000</td>\n",
       "      <td>0.000000</td>\n",
       "      <td>1.000000</td>\n",
       "      <td>2.000000</td>\n",
       "      <td>2.000000</td>\n",
       "      <td>2.600000</td>\n",
       "    </tr>\n",
       "    <tr>\n",
       "      <th>max</th>\n",
       "      <td>1.000000</td>\n",
       "      <td>103.000000</td>\n",
       "      <td>10.000000</td>\n",
       "      <td>12.000000</td>\n",
       "      <td>4.000000</td>\n",
       "      <td>4.000000</td>\n",
       "      <td>12222.000000</td>\n",
       "      <td>1.000000</td>\n",
       "      <td>1.000000</td>\n",
       "      <td>2.000000</td>\n",
       "      <td>2.000000</td>\n",
       "      <td>2.000000</td>\n",
       "      <td>31.500000</td>\n",
       "    </tr>\n",
       "  </tbody>\n",
       "</table>\n",
       "</div>"
      ],
      "text/plain": [
       "       property_type       sector      bedRoom     bathroom      balcony  \\\n",
       "count    3544.000000  3544.000000  3544.000000  3544.000000  3544.000000   \n",
       "mean        0.209368    56.864842     3.185948     3.260722     2.724323   \n",
       "std         0.406915    32.633418     1.369444     1.441012     1.142125   \n",
       "min         0.000000     0.000000     1.000000     1.000000     0.000000   \n",
       "25%         0.000000    28.000000     2.000000     2.000000     2.000000   \n",
       "50%         0.000000    63.000000     3.000000     3.000000     3.000000   \n",
       "75%         0.000000    87.000000     4.000000     4.000000     4.000000   \n",
       "max         1.000000   103.000000    10.000000    12.000000     4.000000   \n",
       "\n",
       "       agePossession  built_up_area  servant room   store room  \\\n",
       "count    3544.000000    3544.000000   3544.000000  3544.000000   \n",
       "mean        2.128104    1844.961941      0.356941     0.089729   \n",
       "std         1.281872    1192.853881      0.479165     0.285834   \n",
       "min         0.000000      33.000000      0.000000     0.000000   \n",
       "25%         1.000000    1200.000000      0.000000     0.000000   \n",
       "50%         3.000000    1611.000000      0.000000     0.000000   \n",
       "75%         3.000000    2191.500000      1.000000     0.000000   \n",
       "max         4.000000   12222.000000      1.000000     1.000000   \n",
       "\n",
       "       furnishing_type  luxury_category  floor_category        price  \n",
       "count      3544.000000      3544.000000     3544.000000  3544.000000  \n",
       "mean          0.389673         1.271445        1.280192     2.409478  \n",
       "std           0.584604         0.690419        0.809339     2.758567  \n",
       "min           0.000000         0.000000        0.000000     0.070000  \n",
       "25%           0.000000         1.000000        1.000000     0.950000  \n",
       "50%           0.000000         1.000000        2.000000     1.500000  \n",
       "75%           1.000000         2.000000        2.000000     2.600000  \n",
       "max           2.000000         2.000000        2.000000    31.500000  "
      ]
     },
     "execution_count": 4,
     "metadata": {},
     "output_type": "execute_result"
    }
   ],
   "source": [
    "df.describe()"
   ]
  },
  {
   "cell_type": "code",
   "execution_count": 5,
   "metadata": {},
   "outputs": [],
   "source": [
    "X = df.drop(columns=['price'])\n",
    "y = df['price']"
   ]
  },
  {
   "cell_type": "code",
   "execution_count": 6,
   "metadata": {},
   "outputs": [
    {
     "data": {
      "text/html": [
       "<div>\n",
       "<style scoped>\n",
       "    .dataframe tbody tr th:only-of-type {\n",
       "        vertical-align: middle;\n",
       "    }\n",
       "\n",
       "    .dataframe tbody tr th {\n",
       "        vertical-align: top;\n",
       "    }\n",
       "\n",
       "    .dataframe thead th {\n",
       "        text-align: right;\n",
       "    }\n",
       "</style>\n",
       "<table border=\"1\" class=\"dataframe\">\n",
       "  <thead>\n",
       "    <tr style=\"text-align: right;\">\n",
       "      <th></th>\n",
       "      <th>property_type</th>\n",
       "      <th>sector</th>\n",
       "      <th>bedRoom</th>\n",
       "      <th>bathroom</th>\n",
       "      <th>balcony</th>\n",
       "      <th>agePossession</th>\n",
       "      <th>built_up_area</th>\n",
       "      <th>servant room</th>\n",
       "      <th>store room</th>\n",
       "      <th>furnishing_type</th>\n",
       "      <th>luxury_category</th>\n",
       "      <th>floor_category</th>\n",
       "    </tr>\n",
       "  </thead>\n",
       "  <tbody>\n",
       "    <tr>\n",
       "      <th>0</th>\n",
       "      <td>0.0</td>\n",
       "      <td>36.0</td>\n",
       "      <td>3</td>\n",
       "      <td>2</td>\n",
       "      <td>2.0</td>\n",
       "      <td>1.0</td>\n",
       "      <td>850.0</td>\n",
       "      <td>0</td>\n",
       "      <td>0</td>\n",
       "      <td>0</td>\n",
       "      <td>1.0</td>\n",
       "      <td>1.0</td>\n",
       "    </tr>\n",
       "    <tr>\n",
       "      <th>1</th>\n",
       "      <td>0.0</td>\n",
       "      <td>95.0</td>\n",
       "      <td>2</td>\n",
       "      <td>2</td>\n",
       "      <td>2.0</td>\n",
       "      <td>1.0</td>\n",
       "      <td>1226.0</td>\n",
       "      <td>1</td>\n",
       "      <td>0</td>\n",
       "      <td>0</td>\n",
       "      <td>1.0</td>\n",
       "      <td>2.0</td>\n",
       "    </tr>\n",
       "    <tr>\n",
       "      <th>2</th>\n",
       "      <td>0.0</td>\n",
       "      <td>103.0</td>\n",
       "      <td>2</td>\n",
       "      <td>2</td>\n",
       "      <td>1.0</td>\n",
       "      <td>1.0</td>\n",
       "      <td>1000.0</td>\n",
       "      <td>0</td>\n",
       "      <td>0</td>\n",
       "      <td>0</td>\n",
       "      <td>1.0</td>\n",
       "      <td>0.0</td>\n",
       "    </tr>\n",
       "    <tr>\n",
       "      <th>3</th>\n",
       "      <td>0.0</td>\n",
       "      <td>99.0</td>\n",
       "      <td>3</td>\n",
       "      <td>4</td>\n",
       "      <td>4.0</td>\n",
       "      <td>3.0</td>\n",
       "      <td>1615.0</td>\n",
       "      <td>1</td>\n",
       "      <td>0</td>\n",
       "      <td>1</td>\n",
       "      <td>0.0</td>\n",
       "      <td>2.0</td>\n",
       "    </tr>\n",
       "    <tr>\n",
       "      <th>4</th>\n",
       "      <td>0.0</td>\n",
       "      <td>5.0</td>\n",
       "      <td>2</td>\n",
       "      <td>2</td>\n",
       "      <td>1.0</td>\n",
       "      <td>3.0</td>\n",
       "      <td>582.0</td>\n",
       "      <td>0</td>\n",
       "      <td>1</td>\n",
       "      <td>0</td>\n",
       "      <td>0.0</td>\n",
       "      <td>2.0</td>\n",
       "    </tr>\n",
       "  </tbody>\n",
       "</table>\n",
       "</div>"
      ],
      "text/plain": [
       "   property_type  sector  bedRoom  bathroom  balcony  agePossession  \\\n",
       "0            0.0    36.0        3         2      2.0            1.0   \n",
       "1            0.0    95.0        2         2      2.0            1.0   \n",
       "2            0.0   103.0        2         2      1.0            1.0   \n",
       "3            0.0    99.0        3         4      4.0            3.0   \n",
       "4            0.0     5.0        2         2      1.0            3.0   \n",
       "\n",
       "   built_up_area  servant room  store room  furnishing_type  luxury_category  \\\n",
       "0          850.0             0           0                0              1.0   \n",
       "1         1226.0             1           0                0              1.0   \n",
       "2         1000.0             0           0                0              1.0   \n",
       "3         1615.0             1           0                1              0.0   \n",
       "4          582.0             0           1                0              0.0   \n",
       "\n",
       "   floor_category  \n",
       "0             1.0  \n",
       "1             2.0  \n",
       "2             0.0  \n",
       "3             2.0  \n",
       "4             2.0  "
      ]
     },
     "execution_count": 6,
     "metadata": {},
     "output_type": "execute_result"
    }
   ],
   "source": [
    "X.head()"
   ]
  },
  {
   "cell_type": "code",
   "execution_count": null,
   "metadata": {},
   "outputs": [],
   "source": []
  },
  {
   "cell_type": "code",
   "execution_count": 7,
   "metadata": {},
   "outputs": [
    {
     "data": {
      "text/plain": [
       "<Axes: ylabel='Frequency'>"
      ]
     },
     "execution_count": 7,
     "metadata": {},
     "output_type": "execute_result"
    },
    {
     "data": {
      "image/png": "[encoded data removed]",
      "text/plain": [
       "<Figure size 640x480 with 1 Axes>"
      ]
     },
     "metadata": {},
     "output_type": "display_data"
    }
   ],
   "source": [
    "y.plot(kind='hist')"
   ]
  },
  {
   "cell_type": "markdown",
   "metadata": {},
   "source": [
    "By transforming we are getting distribution near to normal distribution."
   ]
  },
  {
   "cell_type": "code",
   "execution_count": 9,
   "metadata": {},
   "outputs": [
    {
     "data": {
      "text/plain": [
       "<Axes: ylabel='Frequency'>"
      ]
     },
     "execution_count": 9,
     "metadata": {},
     "output_type": "execute_result"
    },
    {
     "data": {
      "image/png": "[encoded data removed]",
      "text/plain": [
       "<Figure size 640x480 with 1 Axes>"
      ]
     },
     "metadata": {},
     "output_type": "display_data"
    }
   ],
   "source": [
    "y = np.log1p(y)\n",
    "y.plot(kind = 'hist')"
   ]
  },
  {
   "cell_type": "code",
   "execution_count": 10,
   "metadata": {},
   "outputs": [],
   "source": [
    "columns_to_scale = ['property_type', 'bedRoom', 'bathroom', 'built_up_area', 'servant room', 'store room']\n",
    "columns_to_encode = ['sector', 'balcony', 'agePossession', 'furnishing_type', 'luxury_category', 'floor_category']"
   ]
  },
  {
   "cell_type": "code",
   "execution_count": 11,
   "metadata": {},
   "outputs": [],
   "source": [
    "preprocessor = ColumnTransformer(\n",
    "    transformers=[\n",
    "        ('num', StandardScaler(), columns_to_scale),\n",
    "        ('cat', OneHotEncoder(drop='first'), columns_to_encode)\n",
    "    ],\n",
    "    remainder='passthrough'\n",
    ")\n",
    "\n",
    "X = preprocessor.fit_transform(X)"
   ]
  },
  {
   "cell_type": "code",
   "execution_count": 12,
   "metadata": {},
   "outputs": [
    {
     "data": {
      "text/html": [
       "<pre style=\"white-space:pre;overflow-x:auto;line-height:normal;font-family:Menlo,'DejaVu Sans Mono',consolas,'Courier New',monospace\">Accessing as kevalsakhiya\n",
       "</pre>\n"
      ],
      "text/plain": [
       "Accessing as kevalsakhiya\n"
      ]
     },
     "metadata": {},
     "output_type": "display_data"
    },
    {
     "data": {
      "text/html": [
       "<pre style=\"white-space:pre;overflow-x:auto;line-height:normal;font-family:Menlo,'DejaVu Sans Mono',consolas,'Courier New',monospace\">Initialized MLflow to track repo <span style=\"color: #008000; text-decoration-color: #008000\">\"kevalsakhiya/property-scout\"</span>\n",
       "</pre>\n"
      ],
      "text/plain": [
       "Initialized MLflow to track repo \u001b[32m\"kevalsakhiya/property-scout\"\u001b[0m\n"
      ]
     },
     "metadata": {},
     "output_type": "display_data"
    },
    {
     "data": {
      "text/html": [
       "<pre style=\"white-space:pre;overflow-x:auto;line-height:normal;font-family:Menlo,'DejaVu Sans Mono',consolas,'Courier New',monospace\">Repository kevalsakhiya/property-scout initialized!\n",
       "</pre>\n"
      ],
      "text/plain": [
       "Repository kevalsakhiya/property-scout initialized!\n"
      ]
     },
     "metadata": {},
     "output_type": "display_data"
    }
   ],
   "source": [
    "import dagshub\n",
    "import mlflow\n",
    "\n",
    "dagshub.init(repo_owner='kevalsakhiya', repo_name='property-scout', mlflow=True)\n",
    "mlflow.set_tracking_uri('https://dagshub.com/kevalsakhiya/property-scout.mlflow')\n",
    "\n"
   ]
  },
  {
   "cell_type": "code",
   "execution_count": 13,
   "metadata": {},
   "outputs": [
    {
     "name": "stdout",
     "output_type": "stream",
     "text": [
      "linear-regression mse= 0.010842941799789561\n",
      "linear-regression r2_score= 0.8264536392106752\n"
     ]
    },
    {
     "name": "stderr",
     "output_type": "stream",
     "text": [
      "2024/08/01 17:54:48 INFO mlflow.tracking._tracking_service.client: 🏃 View run linear-regression at: https://dagshub.com/kevalsakhiya/property-scout.mlflow/#/experiments/3/runs/d54ebf18d9144587979412ec7157ee29.\n",
      "2024/08/01 17:54:48 INFO mlflow.tracking._tracking_service.client: 🧪 View experiment at: https://dagshub.com/kevalsakhiya/property-scout.mlflow/#/experiments/3.\n"
     ]
    },
    {
     "name": "stdout",
     "output_type": "stream",
     "text": [
      "decision-tree mse= 0.013333947995871448\n",
      "decision-tree r2_score= 0.7865839186112284\n"
     ]
    },
    {
     "name": "stderr",
     "output_type": "stream",
     "text": [
      "2024/08/01 17:54:50 INFO mlflow.tracking._tracking_service.client: 🏃 View run decision-tree at: https://dagshub.com/kevalsakhiya/property-scout.mlflow/#/experiments/3/runs/13fe5338ca574168bc5b168fe532fa38.\n",
      "2024/08/01 17:54:50 INFO mlflow.tracking._tracking_service.client: 🧪 View experiment at: https://dagshub.com/kevalsakhiya/property-scout.mlflow/#/experiments/3.\n"
     ]
    },
    {
     "name": "stdout",
     "output_type": "stream",
     "text": [
      "random-forest mse= 0.008100236992996212\n",
      "random-forest r2_score= 0.8703519139342019\n"
     ]
    },
    {
     "name": "stderr",
     "output_type": "stream",
     "text": [
      "2024/08/01 17:54:57 INFO mlflow.tracking._tracking_service.client: 🏃 View run random-forest at: https://dagshub.com/kevalsakhiya/property-scout.mlflow/#/experiments/3/runs/a30d92a2b3c948f89580fdea46f30386.\n",
      "2024/08/01 17:54:57 INFO mlflow.tracking._tracking_service.client: 🧪 View experiment at: https://dagshub.com/kevalsakhiya/property-scout.mlflow/#/experiments/3.\n"
     ]
    },
    {
     "name": "stdout",
     "output_type": "stream",
     "text": [
      "gradient-doost mse= 0.00923352465116255\n",
      "gradient-doost r2_score= 0.85221311429534\n"
     ]
    },
    {
     "name": "stderr",
     "output_type": "stream",
     "text": [
      "2024/08/01 17:55:01 INFO mlflow.tracking._tracking_service.client: 🏃 View run gradient-doost at: https://dagshub.com/kevalsakhiya/property-scout.mlflow/#/experiments/3/runs/99aab06b6df94c97b68fc6cb204c1947.\n",
      "2024/08/01 17:55:01 INFO mlflow.tracking._tracking_service.client: 🧪 View experiment at: https://dagshub.com/kevalsakhiya/property-scout.mlflow/#/experiments/3.\n"
     ]
    },
    {
     "name": "stdout",
     "output_type": "stream",
     "text": [
      "ada-boost mse= 0.017271120407937587\n",
      "ada-boost r2_score= 0.7235676305474608\n"
     ]
    },
    {
     "name": "stderr",
     "output_type": "stream",
     "text": [
      "2024/08/01 17:55:05 INFO mlflow.tracking._tracking_service.client: 🏃 View run ada-boost at: https://dagshub.com/kevalsakhiya/property-scout.mlflow/#/experiments/3/runs/eef4aa77bdd34dcfa49c5f4d9139d8c8.\n",
      "2024/08/01 17:55:05 INFO mlflow.tracking._tracking_service.client: 🧪 View experiment at: https://dagshub.com/kevalsakhiya/property-scout.mlflow/#/experiments/3.\n"
     ]
    },
    {
     "name": "stdout",
     "output_type": "stream",
     "text": [
      "svr mse= 0.008760693346241561\n",
      "svr r2_score= 0.8597810007371816\n"
     ]
    },
    {
     "name": "stderr",
     "output_type": "stream",
     "text": [
      "2024/08/01 17:55:08 INFO mlflow.tracking._tracking_service.client: 🏃 View run svr at: https://dagshub.com/kevalsakhiya/property-scout.mlflow/#/experiments/3/runs/fc4f2bf55f104e32b4fc572a5608b0af.\n",
      "2024/08/01 17:55:08 INFO mlflow.tracking._tracking_service.client: 🧪 View experiment at: https://dagshub.com/kevalsakhiya/property-scout.mlflow/#/experiments/3.\n"
     ]
    },
    {
     "name": "stdout",
     "output_type": "stream",
     "text": [
      "k-nearest-neighbout mse= 0.013055307102325511\n",
      "k-nearest-neighbout r2_score= 0.7910436965879877\n"
     ]
    },
    {
     "name": "stderr",
     "output_type": "stream",
     "text": [
      "2024/08/01 17:55:11 INFO mlflow.tracking._tracking_service.client: 🏃 View run k-nearest-neighbout at: https://dagshub.com/kevalsakhiya/property-scout.mlflow/#/experiments/3/runs/ea01388e77c64e809290d443c1cc855b.\n",
      "2024/08/01 17:55:11 INFO mlflow.tracking._tracking_service.client: 🧪 View experiment at: https://dagshub.com/kevalsakhiya/property-scout.mlflow/#/experiments/3.\n"
     ]
    },
    {
     "name": "stdout",
     "output_type": "stream",
     "text": [
      "xgboost mse= 0.007061672029352331\n",
      "xgboost r2_score= 0.8869746324926646\n"
     ]
    },
    {
     "name": "stderr",
     "output_type": "stream",
     "text": [
      "2024/08/01 17:55:17 INFO mlflow.tracking._tracking_service.client: 🏃 View run xgboost at: https://dagshub.com/kevalsakhiya/property-scout.mlflow/#/experiments/3/runs/fc3a49748e0d4cfab0c3e9b19e6fe656.\n",
      "2024/08/01 17:55:17 INFO mlflow.tracking._tracking_service.client: 🧪 View experiment at: https://dagshub.com/kevalsakhiya/property-scout.mlflow/#/experiments/3.\n"
     ]
    }
   ],
   "source": [
    "from sklearn.linear_model import LinearRegression, Ridge, Lasso, ElasticNet\n",
    "from sklearn.tree import DecisionTreeRegressor\n",
    "from sklearn.ensemble import RandomForestRegressor, GradientBoostingRegressor, AdaBoostRegressor\n",
    "from sklearn.svm import SVR\n",
    "from sklearn.neighbors import KNeighborsRegressor\n",
    "from sklearn.neural_network import MLPRegressor\n",
    "from sklearn.model_selection import train_test_split\n",
    "from sklearn.metrics import mean_squared_error, r2_score\n",
    "from xgboost import XGBRegressor\n",
    "import mlflow\n",
    "\n",
    "X_train, X_test, y_train, y_test = train_test_split(X, y, test_size=0.2, random_state=42)\n",
    "\n",
    "model_dict = {\n",
    "        'linear-regression': LinearRegression(),\n",
    "        'decision-tree': DecisionTreeRegressor(),\n",
    "        'random-forest': RandomForestRegressor(),\n",
    "        'gradient-doost': GradientBoostingRegressor(),\n",
    "        'ada-boost': AdaBoostRegressor(),\n",
    "        'svr': SVR(),\n",
    "        'k-nearest-neighbout': KNeighborsRegressor(),\n",
    "        'xgboost': XGBRegressor()\n",
    "    }\n",
    "mlflow.set_experiment('all-models')\n",
    "\n",
    "for name, model in model_dict.items():\n",
    "    with mlflow.start_run(run_name=name):\n",
    "        model.fit(X_train, y_train)\n",
    "        y_pred = model.predict(X_test)\n",
    "\n",
    "        mse = mean_squared_error(y_test, y_pred)\n",
    "        r2 = r2_score(y_test, y_pred)\n",
    "\n",
    "        # Logging metrics to MLflow\n",
    "        mlflow.log_metric('mse', mse)\n",
    "        mlflow.log_metric('r2_score', r2)\n",
    "        mlflow.log_params(model.get_params())\n",
    "\n",
    "        print(name, 'mse=', mse)\n",
    "        print(name, 'r2_score=', r2)"
   ]
  },
  {
   "cell_type": "code",
   "execution_count": null,
   "metadata": {},
   "outputs": [],
   "source": []
  }
 ],
 "metadata": {
  "kernelspec": {
   "display_name": ".venv",
   "language": "python",
   "name": "python3"
  },
  "language_info": {
   "codemirror_mode": {
    "name": "ipython",
    "version": 3
   },
   "file_extension": ".py",
   "mimetype": "text/x-python",
   "name": "python",
   "nbconvert_exporter": "python",
   "pygments_lexer": "ipython3",
   "version": "3.12.3"
  }
 },
 "nbformat": 4,
 "nbformat_minor": 2
}
