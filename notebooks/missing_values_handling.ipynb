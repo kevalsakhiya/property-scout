{
 "cells": [
  {
   "cell_type": "code",
   "execution_count": 2,
   "id": "9162d90a-cd3a-426e-bba0-c3e511371021",
   "metadata": {},
   "outputs": [],
   "source": [
    "import numpy as np\n",
    "import pandas as pd\n",
    "import matplotlib.pyplot as plt\n",
    "import seaborn as sns"
   ]
  },
  {
   "cell_type": "code",
   "execution_count": 3,
   "id": "682ef4c2-8c3d-414c-a204-d7d810f72142",
   "metadata": {},
   "outputs": [],
   "source": [
    "pd.set_option('display.max_columns', None)"
   ]
  },
  {
   "cell_type": "code",
   "execution_count": 3,
   "id": "aa43750d-1167-4557-b71b-378721e6aa5d",
   "metadata": {},
   "outputs": [],
   "source": [
    "df = pd.read_csv('gurgaon_properties_outlier_treated.csv')"
   ]
  },
  {
   "cell_type": "code",
   "execution_count": 5,
   "id": "25ee7d32-40d0-4b9d-9efb-9a7e0c819cf6",
   "metadata": {},
   "outputs": [
    {
     "data": {
      "text/html": [
       "<div>\n",
       "<style scoped>\n",
       "    .dataframe tbody tr th:only-of-type {\n",
       "        vertical-align: middle;\n",
       "    }\n",
       "\n",
       "    .dataframe tbody tr th {\n",
       "        vertical-align: top;\n",
       "    }\n",
       "\n",
       "    .dataframe thead th {\n",
       "        text-align: right;\n",
       "    }\n",
       "</style>\n",
       "<table border=\"1\" class=\"dataframe\">\n",
       "  <thead>\n",
       "    <tr style=\"text-align: right;\">\n",
       "      <th></th>\n",
       "      <th>property_type</th>\n",
       "      <th>society</th>\n",
       "      <th>sector</th>\n",
       "      <th>price</th>\n",
       "      <th>price_per_sqft</th>\n",
       "      <th>area</th>\n",
       "      <th>areaWithType</th>\n",
       "      <th>bedRoom</th>\n",
       "      <th>bathroom</th>\n",
       "      <th>balcony</th>\n",
       "      <th>floorNum</th>\n",
       "      <th>facing</th>\n",
       "      <th>agePossession</th>\n",
       "      <th>super_built_up_area</th>\n",
       "      <th>built_up_area</th>\n",
       "      <th>carpet_area</th>\n",
       "      <th>study room</th>\n",
       "      <th>servant room</th>\n",
       "      <th>store room</th>\n",
       "      <th>pooja room</th>\n",
       "      <th>others</th>\n",
       "      <th>furnishing_type</th>\n",
       "      <th>luxury_score</th>\n",
       "      <th>area_room_ratio</th>\n",
       "    </tr>\n",
       "  </thead>\n",
       "  <tbody>\n",
       "    <tr>\n",
       "      <th>0</th>\n",
       "      <td>flat</td>\n",
       "      <td>signature global park 4</td>\n",
       "      <td>sector 36</td>\n",
       "      <td>0.82</td>\n",
       "      <td>7586.0</td>\n",
       "      <td>1081.0</td>\n",
       "      <td>Super Built up area 1081(100.43 sq.m.)Carpet a...</td>\n",
       "      <td>3.0</td>\n",
       "      <td>2.0</td>\n",
       "      <td>2</td>\n",
       "      <td>2.0</td>\n",
       "      <td>NaN</td>\n",
       "      <td>New Property</td>\n",
       "      <td>1081.0</td>\n",
       "      <td>NaN</td>\n",
       "      <td>650.0</td>\n",
       "      <td>0.0</td>\n",
       "      <td>0.0</td>\n",
       "      <td>0.0</td>\n",
       "      <td>0.0</td>\n",
       "      <td>0.0</td>\n",
       "      <td>0.0</td>\n",
       "      <td>8.0</td>\n",
       "      <td>360.333333</td>\n",
       "    </tr>\n",
       "    <tr>\n",
       "      <th>1</th>\n",
       "      <td>flat</td>\n",
       "      <td>smart world gems</td>\n",
       "      <td>sector 89</td>\n",
       "      <td>0.95</td>\n",
       "      <td>8597.0</td>\n",
       "      <td>1105.0</td>\n",
       "      <td>Carpet area: 1103 (102.47 sq.m.)</td>\n",
       "      <td>2.0</td>\n",
       "      <td>2.0</td>\n",
       "      <td>2</td>\n",
       "      <td>4.0</td>\n",
       "      <td>NaN</td>\n",
       "      <td>New Property</td>\n",
       "      <td>NaN</td>\n",
       "      <td>NaN</td>\n",
       "      <td>1103.0</td>\n",
       "      <td>1.0</td>\n",
       "      <td>1.0</td>\n",
       "      <td>0.0</td>\n",
       "      <td>0.0</td>\n",
       "      <td>0.0</td>\n",
       "      <td>0.0</td>\n",
       "      <td>38.0</td>\n",
       "      <td>552.500000</td>\n",
       "    </tr>\n",
       "    <tr>\n",
       "      <th>2</th>\n",
       "      <td>flat</td>\n",
       "      <td>breez global hill view</td>\n",
       "      <td>sohna road</td>\n",
       "      <td>0.32</td>\n",
       "      <td>5470.0</td>\n",
       "      <td>585.0</td>\n",
       "      <td>Built Up area: 1000 (92.9 sq.m.)Carpet area: 5...</td>\n",
       "      <td>2.0</td>\n",
       "      <td>2.0</td>\n",
       "      <td>1</td>\n",
       "      <td>17.0</td>\n",
       "      <td>NaN</td>\n",
       "      <td>New Property</td>\n",
       "      <td>NaN</td>\n",
       "      <td>1000.0</td>\n",
       "      <td>585.0</td>\n",
       "      <td>0.0</td>\n",
       "      <td>0.0</td>\n",
       "      <td>0.0</td>\n",
       "      <td>0.0</td>\n",
       "      <td>0.0</td>\n",
       "      <td>0.0</td>\n",
       "      <td>49.0</td>\n",
       "      <td>292.500000</td>\n",
       "    </tr>\n",
       "  </tbody>\n",
       "</table>\n",
       "</div>"
      ],
      "text/plain": [
       "  property_type                  society      sector  price  price_per_sqft  \\\n",
       "0          flat  signature global park 4   sector 36   0.82          7586.0   \n",
       "1          flat         smart world gems   sector 89   0.95          8597.0   \n",
       "2          flat   breez global hill view  sohna road   0.32          5470.0   \n",
       "\n",
       "     area                                       areaWithType  bedRoom  \\\n",
       "0  1081.0  Super Built up area 1081(100.43 sq.m.)Carpet a...      3.0   \n",
       "1  1105.0                   Carpet area: 1103 (102.47 sq.m.)      2.0   \n",
       "2   585.0  Built Up area: 1000 (92.9 sq.m.)Carpet area: 5...      2.0   \n",
       "\n",
       "   bathroom balcony  floorNum facing agePossession  super_built_up_area  \\\n",
       "0       2.0       2       2.0    NaN  New Property               1081.0   \n",
       "1       2.0       2       4.0    NaN  New Property                  NaN   \n",
       "2       2.0       1      17.0    NaN  New Property                  NaN   \n",
       "\n",
       "   built_up_area  carpet_area  study room  servant room  store room  \\\n",
       "0            NaN        650.0         0.0           0.0         0.0   \n",
       "1            NaN       1103.0         1.0           1.0         0.0   \n",
       "2         1000.0        585.0         0.0           0.0         0.0   \n",
       "\n",
       "   pooja room  others  furnishing_type  luxury_score  area_room_ratio  \n",
       "0         0.0     0.0              0.0           8.0       360.333333  \n",
       "1         0.0     0.0              0.0          38.0       552.500000  \n",
       "2         0.0     0.0              0.0          49.0       292.500000  "
      ]
     },
     "execution_count": 5,
     "metadata": {},
     "output_type": "execute_result"
    }
   ],
   "source": [
    "df.head(3)"
   ]
  },
  {
   "cell_type": "code",
   "execution_count": 8,
   "id": "14b16090-5ee1-4745-836d-9becf6d782f1",
   "metadata": {},
   "outputs": [
    {
     "data": {
      "text/plain": [
       "property_type             0\n",
       "society                   1\n",
       "sector                    0\n",
       "price                     0\n",
       "price_per_sqft            0\n",
       "area                      0\n",
       "areaWithType              0\n",
       "bedRoom                   0\n",
       "bathroom                  0\n",
       "balcony                   0\n",
       "floorNum                 17\n",
       "facing                 1011\n",
       "agePossession             0\n",
       "super_built_up_area    1680\n",
       "built_up_area          1968\n",
       "carpet_area            1715\n",
       "study room                0\n",
       "servant room              0\n",
       "store room                0\n",
       "pooja room                0\n",
       "others                    0\n",
       "furnishing_type           0\n",
       "luxury_score              0\n",
       "area_room_ratio           0\n",
       "dtype: int64"
      ]
     },
     "execution_count": 8,
     "metadata": {},
     "output_type": "execute_result"
    }
   ],
   "source": [
    "df.isnull().sum()"
   ]
  },
  {
   "cell_type": "markdown",
   "id": "595b4fdd-0d4b-4a10-9fe3-6e176e0a4220",
   "metadata": {},
   "source": [
    "### Built up area"
   ]
  },
  {
   "cell_type": "code",
   "execution_count": 24,
   "id": "68d9c342-be46-474a-9f3b-40b9f38f7d15",
   "metadata": {},
   "outputs": [
    {
     "data": {
      "image/png": "[encoded data removed]",
      "text/plain": [
       "<Figure size 2000x500 with 2 Axes>"
      ]
     },
     "metadata": {},
     "output_type": "display_data"
    }
   ],
   "source": [
    "plt.figure(figsize=(20,5))\n",
    "\n",
    "plt.subplot(1,2,1)\n",
    "sns.scatterplot(x = 'built_up_area', y='super_built_up_area', data=df)\n",
    "plt.title('built_up_area VS super_built_up_area')\n",
    "plt.grid()\n",
    "\n",
    "plt.subplot(1,2,2)\n",
    "sns.scatterplot(x = 'built_up_area', y='carpet_area', data=df)\n",
    "plt.title('built_up_area VS carpet_area')\n",
    "plt.grid()\n",
    "\n",
    "plt.tight_layout()\n",
    "plt.show()"
   ]
  },
  {
   "cell_type": "code",
   "execution_count": 28,
   "id": "c2597747-1894-4c7f-98da-6bab37678487",
   "metadata": {},
   "outputs": [
    {
     "data": {
      "text/plain": [
       "0"
      ]
     },
     "execution_count": 28,
     "metadata": {},
     "output_type": "execute_result"
    }
   ],
   "source": [
    "# checking the row count where all three areas are absent\n",
    "int(((df['super_built_up_area'].isnull()) & (df['built_up_area'].isnull()) & (df['carpet_area'].isnull())).sum())"
   ]
  },
  {
   "cell_type": "code",
   "execution_count": 31,
   "id": "c29e6e50-f1bd-4349-a1f5-b0e71ea635f4",
   "metadata": {},
   "outputs": [
    {
     "data": {
      "text/plain": [
       "(531, 24)"
      ]
     },
     "execution_count": 31,
     "metadata": {},
     "output_type": "execute_result"
    }
   ],
   "source": [
    "# checking where all three areas are present\n",
    "all_present_df = df[~((df['super_built_up_area'].isnull()) | (df['built_up_area'].isnull()) | (df['carpet_area'].isnull()))]\n",
    "all_present_df.shape"
   ]
  },
  {
   "cell_type": "code",
   "execution_count": 33,
   "id": "81767810-d36f-4eff-a39a-996cf879a4d1",
   "metadata": {},
   "outputs": [
    {
     "name": "stdout",
     "output_type": "stream",
     "text": [
      "Ratio of super_built_up_area to built_up_area - 1.105263157894737 \n",
      "Ratio of carpet_area to built_up_area - 0.9\n"
     ]
    }
   ],
   "source": [
    "# Calculating the ratio of super_built_up_area to built_up_area\n",
    "super_to_built_up_ratio = (all_present_df['super_built_up_area']/all_present_df['built_up_area']).median()\n",
    "\n",
    "# Calculating the ratio of carpet_area to built_up_area\n",
    "carpet_to_built_up_ratio = (all_present_df['carpet_area']/all_present_df['built_up_area']).median()\n",
    "\n",
    "print('Ratio of super_built_up_area to built_up_area -',super_to_built_up_ratio, '\\nRatio of carpet_area to built_up_area -',carpet_to_built_up_ratio)"
   ]
  },
  {
   "cell_type": "code",
   "execution_count": 38,
   "id": "b2a3e624-855e-47dd-b6da-f671d0137109",
   "metadata": {},
   "outputs": [
    {
     "data": {
      "text/html": [
       "<div>\n",
       "<style scoped>\n",
       "    .dataframe tbody tr th:only-of-type {\n",
       "        vertical-align: middle;\n",
       "    }\n",
       "\n",
       "    .dataframe tbody tr th {\n",
       "        vertical-align: top;\n",
       "    }\n",
       "\n",
       "    .dataframe thead th {\n",
       "        text-align: right;\n",
       "    }\n",
       "</style>\n",
       "<table border=\"1\" class=\"dataframe\">\n",
       "  <thead>\n",
       "    <tr style=\"text-align: right;\">\n",
       "      <th></th>\n",
       "      <th>property_type</th>\n",
       "      <th>society</th>\n",
       "      <th>sector</th>\n",
       "      <th>price</th>\n",
       "      <th>price_per_sqft</th>\n",
       "      <th>area</th>\n",
       "      <th>areaWithType</th>\n",
       "      <th>bedRoom</th>\n",
       "      <th>bathroom</th>\n",
       "      <th>balcony</th>\n",
       "      <th>floorNum</th>\n",
       "      <th>facing</th>\n",
       "      <th>agePossession</th>\n",
       "      <th>super_built_up_area</th>\n",
       "      <th>built_up_area</th>\n",
       "      <th>carpet_area</th>\n",
       "      <th>study room</th>\n",
       "      <th>servant room</th>\n",
       "      <th>store room</th>\n",
       "      <th>pooja room</th>\n",
       "      <th>others</th>\n",
       "      <th>furnishing_type</th>\n",
       "      <th>luxury_score</th>\n",
       "      <th>area_room_ratio</th>\n",
       "    </tr>\n",
       "  </thead>\n",
       "  <tbody>\n",
       "    <tr>\n",
       "      <th>0</th>\n",
       "      <td>flat</td>\n",
       "      <td>signature global park 4</td>\n",
       "      <td>sector 36</td>\n",
       "      <td>0.82</td>\n",
       "      <td>7586.0</td>\n",
       "      <td>1081.0</td>\n",
       "      <td>Super Built up area 1081(100.43 sq.m.)Carpet a...</td>\n",
       "      <td>3.0</td>\n",
       "      <td>2.0</td>\n",
       "      <td>2</td>\n",
       "      <td>2.0</td>\n",
       "      <td>NaN</td>\n",
       "      <td>New Property</td>\n",
       "      <td>1081.0</td>\n",
       "      <td>NaN</td>\n",
       "      <td>650.0</td>\n",
       "      <td>0.0</td>\n",
       "      <td>0.0</td>\n",
       "      <td>0.0</td>\n",
       "      <td>0.0</td>\n",
       "      <td>0.0</td>\n",
       "      <td>0.0</td>\n",
       "      <td>8.0</td>\n",
       "      <td>360.333333</td>\n",
       "    </tr>\n",
       "    <tr>\n",
       "      <th>4</th>\n",
       "      <td>flat</td>\n",
       "      <td>suncity avenue</td>\n",
       "      <td>sector 102</td>\n",
       "      <td>0.48</td>\n",
       "      <td>9023.0</td>\n",
       "      <td>532.0</td>\n",
       "      <td>Super Built up area 632(58.71 sq.m.)Carpet are...</td>\n",
       "      <td>2.0</td>\n",
       "      <td>2.0</td>\n",
       "      <td>1</td>\n",
       "      <td>5.0</td>\n",
       "      <td>North-East</td>\n",
       "      <td>Relatively New</td>\n",
       "      <td>632.0</td>\n",
       "      <td>NaN</td>\n",
       "      <td>532.0</td>\n",
       "      <td>0.0</td>\n",
       "      <td>0.0</td>\n",
       "      <td>1.0</td>\n",
       "      <td>0.0</td>\n",
       "      <td>0.0</td>\n",
       "      <td>0.0</td>\n",
       "      <td>159.0</td>\n",
       "      <td>266.000000</td>\n",
       "    </tr>\n",
       "    <tr>\n",
       "      <th>38</th>\n",
       "      <td>flat</td>\n",
       "      <td>corona optus</td>\n",
       "      <td>sector 37</td>\n",
       "      <td>1.25</td>\n",
       "      <td>7176.0</td>\n",
       "      <td>1742.0</td>\n",
       "      <td>Super Built up area 1735(161.19 sq.m.)Carpet a...</td>\n",
       "      <td>3.0</td>\n",
       "      <td>3.0</td>\n",
       "      <td>3</td>\n",
       "      <td>2.0</td>\n",
       "      <td>North-West</td>\n",
       "      <td>Relatively New</td>\n",
       "      <td>1735.0</td>\n",
       "      <td>NaN</td>\n",
       "      <td>1400.0</td>\n",
       "      <td>1.0</td>\n",
       "      <td>0.0</td>\n",
       "      <td>0.0</td>\n",
       "      <td>0.0</td>\n",
       "      <td>0.0</td>\n",
       "      <td>0.0</td>\n",
       "      <td>49.0</td>\n",
       "      <td>580.666667</td>\n",
       "    </tr>\n",
       "  </tbody>\n",
       "</table>\n",
       "</div>"
      ],
      "text/plain": [
       "   property_type                  society      sector  price  price_per_sqft  \\\n",
       "0           flat  signature global park 4   sector 36   0.82          7586.0   \n",
       "4           flat           suncity avenue  sector 102   0.48          9023.0   \n",
       "38          flat             corona optus   sector 37   1.25          7176.0   \n",
       "\n",
       "      area                                       areaWithType  bedRoom  \\\n",
       "0   1081.0  Super Built up area 1081(100.43 sq.m.)Carpet a...      3.0   \n",
       "4    532.0  Super Built up area 632(58.71 sq.m.)Carpet are...      2.0   \n",
       "38  1742.0  Super Built up area 1735(161.19 sq.m.)Carpet a...      3.0   \n",
       "\n",
       "    bathroom balcony  floorNum      facing   agePossession  \\\n",
       "0        2.0       2       2.0         NaN    New Property   \n",
       "4        2.0       1       5.0  North-East  Relatively New   \n",
       "38       3.0       3       2.0  North-West  Relatively New   \n",
       "\n",
       "    super_built_up_area  built_up_area  carpet_area  study room  servant room  \\\n",
       "0                1081.0            NaN        650.0         0.0           0.0   \n",
       "4                 632.0            NaN        532.0         0.0           0.0   \n",
       "38               1735.0            NaN       1400.0         1.0           0.0   \n",
       "\n",
       "    store room  pooja room  others  furnishing_type  luxury_score  \\\n",
       "0          0.0         0.0     0.0              0.0           8.0   \n",
       "4          1.0         0.0     0.0              0.0         159.0   \n",
       "38         0.0         0.0     0.0              0.0          49.0   \n",
       "\n",
       "    area_room_ratio  \n",
       "0        360.333333  \n",
       "4        266.000000  \n",
       "38       580.666667  "
      ]
     },
     "execution_count": 38,
     "metadata": {},
     "output_type": "execute_result"
    }
   ],
   "source": [
    "# both present but built_up_area is null\n",
    "sbc_df = df[~(df['super_built_up_area'].isnull()) & (df['built_up_area'].isnull()) & ~(df['carpet_area'].isnull())]\n",
    "sbc_df.head(3)"
   ]
  },
  {
   "cell_type": "code",
   "execution_count": 39,
   "id": "0e3a552f-506a-4a40-ba0c-32370d8cfc30",
   "metadata": {},
   "outputs": [],
   "source": [
    "adjusted_super_built_up_area = sbc_df['super_built_up_area'] / 1.105\n",
    "adjusted_carpet_area = sbc_df['carpet_area'] / 0.9\n",
    "\n",
    "# Compute the average of the adjusted values\n",
    "average_area = (adjusted_super_built_up_area + adjusted_carpet_area) / 2\n",
    "\n",
    "# Fill the missing values in 'built_up_area' with the computed average\n",
    "sbc_df.loc[sbc_df['built_up_area'].isna(), 'built_up_area'] = round(average_area[sbc_df['built_up_area'].isna()])"
   ]
  },
  {
   "cell_type": "code",
   "execution_count": 40,
   "id": "bcdb6cdc-99b3-4f18-b059-0fe4d17422ae",
   "metadata": {},
   "outputs": [],
   "source": [
    "df.update(sbc_df)"
   ]
  },
  {
   "cell_type": "code",
   "execution_count": 45,
   "id": "49bd943d-3d54-44f6-8462-4b423cc539dd",
   "metadata": {},
   "outputs": [
    {
     "data": {
      "text/plain": [
       "property_type             0\n",
       "society                   1\n",
       "sector                    0\n",
       "price                     0\n",
       "price_per_sqft            0\n",
       "area                      0\n",
       "areaWithType              0\n",
       "bedRoom                   0\n",
       "bathroom                  0\n",
       "balcony                   0\n",
       "floorNum                 17\n",
       "facing                 1011\n",
       "agePossession             0\n",
       "super_built_up_area    1680\n",
       "built_up_area          1547\n",
       "carpet_area            1715\n",
       "study room                0\n",
       "servant room              0\n",
       "store room                0\n",
       "pooja room                0\n",
       "others                    0\n",
       "furnishing_type           0\n",
       "luxury_score              0\n",
       "area_room_ratio           0\n",
       "dtype: int64"
      ]
     },
     "execution_count": 45,
     "metadata": {},
     "output_type": "execute_result"
    }
   ],
   "source": [
    "# chicking the empty values again (before- built_up_area had `1968 empty values)\n",
    "df.isnull().sum()"
   ]
  },
  {
   "cell_type": "code",
   "execution_count": 46,
   "id": "6de9e3f6-acf1-4aa1-9471-b226453b29f1",
   "metadata": {},
   "outputs": [
    {
     "data": {
      "text/html": [
       "<div>\n",
       "<style scoped>\n",
       "    .dataframe tbody tr th:only-of-type {\n",
       "        vertical-align: middle;\n",
       "    }\n",
       "\n",
       "    .dataframe tbody tr th {\n",
       "        vertical-align: top;\n",
       "    }\n",
       "\n",
       "    .dataframe thead th {\n",
       "        text-align: right;\n",
       "    }\n",
       "</style>\n",
       "<table border=\"1\" class=\"dataframe\">\n",
       "  <thead>\n",
       "    <tr style=\"text-align: right;\">\n",
       "      <th></th>\n",
       "      <th>property_type</th>\n",
       "      <th>society</th>\n",
       "      <th>sector</th>\n",
       "      <th>price</th>\n",
       "      <th>price_per_sqft</th>\n",
       "      <th>area</th>\n",
       "      <th>areaWithType</th>\n",
       "      <th>bedRoom</th>\n",
       "      <th>bathroom</th>\n",
       "      <th>balcony</th>\n",
       "      <th>floorNum</th>\n",
       "      <th>facing</th>\n",
       "      <th>agePossession</th>\n",
       "      <th>super_built_up_area</th>\n",
       "      <th>built_up_area</th>\n",
       "      <th>carpet_area</th>\n",
       "      <th>study room</th>\n",
       "      <th>servant room</th>\n",
       "      <th>store room</th>\n",
       "      <th>pooja room</th>\n",
       "      <th>others</th>\n",
       "      <th>furnishing_type</th>\n",
       "      <th>luxury_score</th>\n",
       "      <th>area_room_ratio</th>\n",
       "    </tr>\n",
       "  </thead>\n",
       "  <tbody>\n",
       "    <tr>\n",
       "      <th>5</th>\n",
       "      <td>flat</td>\n",
       "      <td>paras quartier</td>\n",
       "      <td>gwal pahari</td>\n",
       "      <td>7.5</td>\n",
       "      <td>14019.0</td>\n",
       "      <td>5350.0</td>\n",
       "      <td>Super Built up area 5350(497.03 sq.m.)</td>\n",
       "      <td>4.0</td>\n",
       "      <td>4.0</td>\n",
       "      <td>3+</td>\n",
       "      <td>20.0</td>\n",
       "      <td>North-East</td>\n",
       "      <td>New Property</td>\n",
       "      <td>5350.0</td>\n",
       "      <td>NaN</td>\n",
       "      <td>NaN</td>\n",
       "      <td>0.0</td>\n",
       "      <td>1.0</td>\n",
       "      <td>0.0</td>\n",
       "      <td>1.0</td>\n",
       "      <td>1.0</td>\n",
       "      <td>1.0</td>\n",
       "      <td>49.0</td>\n",
       "      <td>1337.500000</td>\n",
       "    </tr>\n",
       "    <tr>\n",
       "      <th>6</th>\n",
       "      <td>flat</td>\n",
       "      <td>experion the heartsong</td>\n",
       "      <td>sector 108</td>\n",
       "      <td>2.0</td>\n",
       "      <td>8554.0</td>\n",
       "      <td>2338.0</td>\n",
       "      <td>Super Built up area 2338(217.21 sq.m.)</td>\n",
       "      <td>3.0</td>\n",
       "      <td>3.0</td>\n",
       "      <td>3+</td>\n",
       "      <td>14.0</td>\n",
       "      <td>East</td>\n",
       "      <td>Relatively New</td>\n",
       "      <td>2338.0</td>\n",
       "      <td>NaN</td>\n",
       "      <td>NaN</td>\n",
       "      <td>0.0</td>\n",
       "      <td>1.0</td>\n",
       "      <td>0.0</td>\n",
       "      <td>0.0</td>\n",
       "      <td>0.0</td>\n",
       "      <td>0.0</td>\n",
       "      <td>95.0</td>\n",
       "      <td>779.333333</td>\n",
       "    </tr>\n",
       "    <tr>\n",
       "      <th>7</th>\n",
       "      <td>flat</td>\n",
       "      <td>adani m2k oyster grande</td>\n",
       "      <td>sector 102</td>\n",
       "      <td>1.9</td>\n",
       "      <td>9104.0</td>\n",
       "      <td>2087.0</td>\n",
       "      <td>Super Built up area 1889(175.49 sq.m.)</td>\n",
       "      <td>3.0</td>\n",
       "      <td>4.0</td>\n",
       "      <td>3</td>\n",
       "      <td>8.0</td>\n",
       "      <td>North-East</td>\n",
       "      <td>Relatively New</td>\n",
       "      <td>1889.0</td>\n",
       "      <td>NaN</td>\n",
       "      <td>NaN</td>\n",
       "      <td>0.0</td>\n",
       "      <td>1.0</td>\n",
       "      <td>0.0</td>\n",
       "      <td>0.0</td>\n",
       "      <td>0.0</td>\n",
       "      <td>0.0</td>\n",
       "      <td>165.0</td>\n",
       "      <td>695.666667</td>\n",
       "    </tr>\n",
       "  </tbody>\n",
       "</table>\n",
       "</div>"
      ],
      "text/plain": [
       "  property_type                  society       sector  price  price_per_sqft  \\\n",
       "5          flat           paras quartier  gwal pahari    7.5         14019.0   \n",
       "6          flat   experion the heartsong   sector 108    2.0          8554.0   \n",
       "7          flat  adani m2k oyster grande   sector 102    1.9          9104.0   \n",
       "\n",
       "     area                            areaWithType  bedRoom  bathroom balcony  \\\n",
       "5  5350.0  Super Built up area 5350(497.03 sq.m.)      4.0       4.0      3+   \n",
       "6  2338.0  Super Built up area 2338(217.21 sq.m.)      3.0       3.0      3+   \n",
       "7  2087.0  Super Built up area 1889(175.49 sq.m.)      3.0       4.0       3   \n",
       "\n",
       "   floorNum      facing   agePossession  super_built_up_area  built_up_area  \\\n",
       "5      20.0  North-East    New Property               5350.0            NaN   \n",
       "6      14.0        East  Relatively New               2338.0            NaN   \n",
       "7       8.0  North-East  Relatively New               1889.0            NaN   \n",
       "\n",
       "   carpet_area  study room  servant room  store room  pooja room  others  \\\n",
       "5          NaN         0.0           1.0         0.0         1.0     1.0   \n",
       "6          NaN         0.0           1.0         0.0         0.0     0.0   \n",
       "7          NaN         0.0           1.0         0.0         0.0     0.0   \n",
       "\n",
       "   furnishing_type  luxury_score  area_room_ratio  \n",
       "5              1.0          49.0      1337.500000  \n",
       "6              0.0          95.0       779.333333  \n",
       "7              0.0         165.0       695.666667  "
      ]
     },
     "execution_count": 46,
     "metadata": {},
     "output_type": "execute_result"
    }
   ],
   "source": [
    "# super_built_up_area present and other two is absent\n",
    "sb_df = df[~(df['super_built_up_area'].isnull()) & (df['built_up_area'].isnull()) & (df['carpet_area'].isnull())]\n",
    "sb_df.head(3)"
   ]
  },
  {
   "cell_type": "code",
   "execution_count": 48,
   "id": "ad55a796-b9af-4eb0-9b30-c8a234a9dda5",
   "metadata": {},
   "outputs": [],
   "source": [
    "fill_values = round(sb_df['super_built_up_area'] / 1.105)\n",
    "\n",
    "# Fill the missing values in 'built_up_area'\n",
    "sb_df.loc[sb_df['built_up_area'].isna(), 'built_up_area'] = fill_values[sb_df['built_up_area'].isna()]"
   ]
  },
  {
   "cell_type": "code",
   "execution_count": 49,
   "id": "a4caad09-4720-41a7-9135-3e48b93e29c7",
   "metadata": {},
   "outputs": [],
   "source": [
    "df.update(sb_df)"
   ]
  },
  {
   "cell_type": "code",
   "execution_count": 50,
   "id": "8236afe6-4f42-4c9d-aa4c-3f69d9a08b98",
   "metadata": {},
   "outputs": [
    {
     "data": {
      "text/plain": [
       "property_type             0\n",
       "society                   1\n",
       "sector                    0\n",
       "price                     0\n",
       "price_per_sqft            0\n",
       "area                      0\n",
       "areaWithType              0\n",
       "bedRoom                   0\n",
       "bathroom                  0\n",
       "balcony                   0\n",
       "floorNum                 17\n",
       "facing                 1011\n",
       "agePossession             0\n",
       "super_built_up_area    1680\n",
       "built_up_area           672\n",
       "carpet_area            1715\n",
       "study room                0\n",
       "servant room              0\n",
       "store room                0\n",
       "pooja room                0\n",
       "others                    0\n",
       "furnishing_type           0\n",
       "luxury_score              0\n",
       "area_room_ratio           0\n",
       "dtype: int64"
      ]
     },
     "execution_count": 50,
     "metadata": {},
     "output_type": "execute_result"
    }
   ],
   "source": [
    "# chicking the empty values again (before- built_up_area had `1547 empty values)\n",
    "\n",
    "df.isnull().sum()"
   ]
  },
  {
   "cell_type": "code",
   "execution_count": 52,
   "id": "aeed294d-6850-4613-9eb4-b38fd0e93ceb",
   "metadata": {},
   "outputs": [
    {
     "data": {
      "text/html": [
       "<div>\n",
       "<style scoped>\n",
       "    .dataframe tbody tr th:only-of-type {\n",
       "        vertical-align: middle;\n",
       "    }\n",
       "\n",
       "    .dataframe tbody tr th {\n",
       "        vertical-align: top;\n",
       "    }\n",
       "\n",
       "    .dataframe thead th {\n",
       "        text-align: right;\n",
       "    }\n",
       "</style>\n",
       "<table border=\"1\" class=\"dataframe\">\n",
       "  <thead>\n",
       "    <tr style=\"text-align: right;\">\n",
       "      <th></th>\n",
       "      <th>property_type</th>\n",
       "      <th>society</th>\n",
       "      <th>sector</th>\n",
       "      <th>price</th>\n",
       "      <th>price_per_sqft</th>\n",
       "      <th>area</th>\n",
       "      <th>areaWithType</th>\n",
       "      <th>bedRoom</th>\n",
       "      <th>bathroom</th>\n",
       "      <th>balcony</th>\n",
       "      <th>floorNum</th>\n",
       "      <th>facing</th>\n",
       "      <th>agePossession</th>\n",
       "      <th>super_built_up_area</th>\n",
       "      <th>built_up_area</th>\n",
       "      <th>carpet_area</th>\n",
       "      <th>study room</th>\n",
       "      <th>servant room</th>\n",
       "      <th>store room</th>\n",
       "      <th>pooja room</th>\n",
       "      <th>others</th>\n",
       "      <th>furnishing_type</th>\n",
       "      <th>luxury_score</th>\n",
       "      <th>area_room_ratio</th>\n",
       "    </tr>\n",
       "  </thead>\n",
       "  <tbody>\n",
       "    <tr>\n",
       "      <th>1</th>\n",
       "      <td>flat</td>\n",
       "      <td>smart world gems</td>\n",
       "      <td>sector 89</td>\n",
       "      <td>0.95</td>\n",
       "      <td>8597.0</td>\n",
       "      <td>1105.0</td>\n",
       "      <td>Carpet area: 1103 (102.47 sq.m.)</td>\n",
       "      <td>2.0</td>\n",
       "      <td>2.0</td>\n",
       "      <td>2</td>\n",
       "      <td>4.0</td>\n",
       "      <td>NaN</td>\n",
       "      <td>New Property</td>\n",
       "      <td>NaN</td>\n",
       "      <td>NaN</td>\n",
       "      <td>1103.0</td>\n",
       "      <td>1.0</td>\n",
       "      <td>1.0</td>\n",
       "      <td>0.0</td>\n",
       "      <td>0.0</td>\n",
       "      <td>0.0</td>\n",
       "      <td>0.0</td>\n",
       "      <td>38.0</td>\n",
       "      <td>552.50</td>\n",
       "    </tr>\n",
       "    <tr>\n",
       "      <th>11</th>\n",
       "      <td>flat</td>\n",
       "      <td>dlf regency park</td>\n",
       "      <td>sector 28</td>\n",
       "      <td>1.60</td>\n",
       "      <td>14545.0</td>\n",
       "      <td>1100.0</td>\n",
       "      <td>Carpet area: 1100 (102.19 sq.m.)</td>\n",
       "      <td>2.0</td>\n",
       "      <td>2.0</td>\n",
       "      <td>2</td>\n",
       "      <td>3.0</td>\n",
       "      <td>North</td>\n",
       "      <td>Relatively New</td>\n",
       "      <td>NaN</td>\n",
       "      <td>NaN</td>\n",
       "      <td>1100.0</td>\n",
       "      <td>0.0</td>\n",
       "      <td>0.0</td>\n",
       "      <td>0.0</td>\n",
       "      <td>0.0</td>\n",
       "      <td>0.0</td>\n",
       "      <td>0.0</td>\n",
       "      <td>52.0</td>\n",
       "      <td>550.00</td>\n",
       "    </tr>\n",
       "    <tr>\n",
       "      <th>13</th>\n",
       "      <td>flat</td>\n",
       "      <td>emaar mgf emerald floors premier</td>\n",
       "      <td>sector 65</td>\n",
       "      <td>2.77</td>\n",
       "      <td>14025.0</td>\n",
       "      <td>1975.0</td>\n",
       "      <td>Carpet area: 1975 (183.48 sq.m.)</td>\n",
       "      <td>4.0</td>\n",
       "      <td>4.0</td>\n",
       "      <td>3+</td>\n",
       "      <td>3.0</td>\n",
       "      <td>North-East</td>\n",
       "      <td>Relatively New</td>\n",
       "      <td>NaN</td>\n",
       "      <td>NaN</td>\n",
       "      <td>1975.0</td>\n",
       "      <td>1.0</td>\n",
       "      <td>1.0</td>\n",
       "      <td>0.0</td>\n",
       "      <td>0.0</td>\n",
       "      <td>0.0</td>\n",
       "      <td>2.0</td>\n",
       "      <td>174.0</td>\n",
       "      <td>493.75</td>\n",
       "    </tr>\n",
       "  </tbody>\n",
       "</table>\n",
       "</div>"
      ],
      "text/plain": [
       "   property_type                           society     sector  price  \\\n",
       "1           flat                  smart world gems  sector 89   0.95   \n",
       "11          flat                  dlf regency park  sector 28   1.60   \n",
       "13          flat  emaar mgf emerald floors premier  sector 65   2.77   \n",
       "\n",
       "    price_per_sqft    area                      areaWithType  bedRoom  \\\n",
       "1           8597.0  1105.0  Carpet area: 1103 (102.47 sq.m.)      2.0   \n",
       "11         14545.0  1100.0  Carpet area: 1100 (102.19 sq.m.)      2.0   \n",
       "13         14025.0  1975.0  Carpet area: 1975 (183.48 sq.m.)      4.0   \n",
       "\n",
       "    bathroom balcony  floorNum      facing   agePossession  \\\n",
       "1        2.0       2       4.0         NaN    New Property   \n",
       "11       2.0       2       3.0       North  Relatively New   \n",
       "13       4.0      3+       3.0  North-East  Relatively New   \n",
       "\n",
       "    super_built_up_area  built_up_area  carpet_area  study room  servant room  \\\n",
       "1                   NaN            NaN       1103.0         1.0           1.0   \n",
       "11                  NaN            NaN       1100.0         0.0           0.0   \n",
       "13                  NaN            NaN       1975.0         1.0           1.0   \n",
       "\n",
       "    store room  pooja room  others  furnishing_type  luxury_score  \\\n",
       "1          0.0         0.0     0.0              0.0          38.0   \n",
       "11         0.0         0.0     0.0              0.0          52.0   \n",
       "13         0.0         0.0     0.0              2.0         174.0   \n",
       "\n",
       "    area_room_ratio  \n",
       "1            552.50  \n",
       "11           550.00  \n",
       "13           493.75  "
      ]
     },
     "execution_count": 52,
     "metadata": {},
     "output_type": "execute_result"
    }
   ],
   "source": [
    "# carpet_area is present and other two are null\n",
    "c_df = df[(df['super_built_up_area'].isnull()) & (df['built_up_area'].isnull()) & ~(df['carpet_area'].isnull())]\n",
    "c_df.head(3)"
   ]
  },
  {
   "cell_type": "code",
   "execution_count": 53,
   "id": "38824ad4-d1ec-4e58-98f4-61225f68dc9b",
   "metadata": {},
   "outputs": [],
   "source": [
    "fill_values = round(c_df['carpet_area']/0.9)\n",
    "\n",
    "# Fill the missing values in 'built_up_area'\n",
    "c_df.loc[c_df['built_up_area'].isna(), 'built_up_area'] = fill_values[c_df['built_up_area'].isna()]"
   ]
  },
  {
   "cell_type": "code",
   "execution_count": 54,
   "id": "22be6aba-7a55-4b54-9408-b01d42164bc5",
   "metadata": {},
   "outputs": [],
   "source": [
    "df.update(c_df)"
   ]
  },
  {
   "cell_type": "code",
   "execution_count": 55,
   "id": "13e44524-4d1e-4848-b7a5-6a6c3d70105a",
   "metadata": {},
   "outputs": [
    {
     "data": {
      "text/plain": [
       "property_type             0\n",
       "society                   1\n",
       "sector                    0\n",
       "price                     0\n",
       "price_per_sqft            0\n",
       "area                      0\n",
       "areaWithType              0\n",
       "bedRoom                   0\n",
       "bathroom                  0\n",
       "balcony                   0\n",
       "floorNum                 17\n",
       "facing                 1011\n",
       "agePossession             0\n",
       "super_built_up_area    1680\n",
       "built_up_area             0\n",
       "carpet_area            1715\n",
       "study room                0\n",
       "servant room              0\n",
       "store room                0\n",
       "pooja room                0\n",
       "others                    0\n",
       "furnishing_type           0\n",
       "luxury_score              0\n",
       "area_room_ratio           0\n",
       "dtype: int64"
      ]
     },
     "execution_count": 55,
     "metadata": {},
     "output_type": "execute_result"
    }
   ],
   "source": [
    "# chicking the empty values again (before- built_up_area had `672 empty values)\n",
    "\n",
    "df.isnull().sum()"
   ]
  },
  {
   "cell_type": "code",
   "execution_count": 58,
   "id": "ce6ff715-ac4d-4521-8911-20c11abdd4d0",
   "metadata": {},
   "outputs": [
    {
     "data": {
      "image/png": "[encoded data removed]",
      "text/plain": [
       "<Figure size 1000x500 with 1 Axes>"
      ]
     },
     "metadata": {},
     "output_type": "display_data"
    }
   ],
   "source": [
    "plt.figure(figsize=(10,5))\n",
    "sns.scatterplot(x='built_up_area', y='price', data=df)\n",
    "plt.show()"
   ]
  },
  {
   "cell_type": "code",
   "execution_count": 59,
   "id": "bbbb8da5-ab18-4fea-ad73-950a03f740c5",
   "metadata": {},
   "outputs": [
    {
     "data": {
      "text/html": [
       "<div>\n",
       "<style scoped>\n",
       "    .dataframe tbody tr th:only-of-type {\n",
       "        vertical-align: middle;\n",
       "    }\n",
       "\n",
       "    .dataframe tbody tr th {\n",
       "        vertical-align: top;\n",
       "    }\n",
       "\n",
       "    .dataframe thead th {\n",
       "        text-align: right;\n",
       "    }\n",
       "</style>\n",
       "<table border=\"1\" class=\"dataframe\">\n",
       "  <thead>\n",
       "    <tr style=\"text-align: right;\">\n",
       "      <th></th>\n",
       "      <th>price</th>\n",
       "      <th>area</th>\n",
       "      <th>built_up_area</th>\n",
       "    </tr>\n",
       "  </thead>\n",
       "  <tbody>\n",
       "    <tr>\n",
       "      <th>2324</th>\n",
       "      <td>6.00</td>\n",
       "      <td>1710.0</td>\n",
       "      <td>1778.00</td>\n",
       "    </tr>\n",
       "    <tr>\n",
       "      <th>71</th>\n",
       "      <td>2.99</td>\n",
       "      <td>1449.0</td>\n",
       "      <td>1449.00</td>\n",
       "    </tr>\n",
       "    <tr>\n",
       "      <th>2389</th>\n",
       "      <td>3.25</td>\n",
       "      <td>1070.0</td>\n",
       "      <td>1069.63</td>\n",
       "    </tr>\n",
       "    <tr>\n",
       "      <th>1280</th>\n",
       "      <td>2.80</td>\n",
       "      <td>2048.0</td>\n",
       "      <td>1853.00</td>\n",
       "    </tr>\n",
       "    <tr>\n",
       "      <th>487</th>\n",
       "      <td>3.50</td>\n",
       "      <td>1935.0</td>\n",
       "      <td>214.00</td>\n",
       "    </tr>\n",
       "  </tbody>\n",
       "</table>\n",
       "</div>"
      ],
      "text/plain": [
       "      price    area  built_up_area\n",
       "2324   6.00  1710.0        1778.00\n",
       "71     2.99  1449.0        1449.00\n",
       "2389   3.25  1070.0        1069.63\n",
       "1280   2.80  2048.0        1853.00\n",
       "487    3.50  1935.0         214.00"
      ]
     },
     "execution_count": 59,
     "metadata": {},
     "output_type": "execute_result"
    }
   ],
   "source": [
    "# making df of anomaly that we can detect in start of the plot\n",
    "anamoly_df = df[(df['built_up_area'] < 2000) & (df['price'] > 2.5)][['price','area','built_up_area']]\n",
    "anamoly_df.sample(5)"
   ]
  },
  {
   "cell_type": "code",
   "execution_count": 62,
   "id": "747e8f10-c84e-4c9b-947f-f793e745eee5",
   "metadata": {},
   "outputs": [],
   "source": [
    "# Assigning area as builtup_are as it looks mistake\n",
    "anamoly_df['built_up_area'] = anamoly_df['area']\n",
    "\n",
    "# Updating dataframe\n",
    "df.update(anamoly_df)"
   ]
  },
  {
   "cell_type": "code",
   "execution_count": 63,
   "id": "6a856b35-bad1-4562-89b2-e77117d8c907",
   "metadata": {},
   "outputs": [
    {
     "data": {
      "image/png": "[encoded data removed]",
      "text/plain": [
       "<Figure size 1000x500 with 1 Axes>"
      ]
     },
     "metadata": {},
     "output_type": "display_data"
    }
   ],
   "source": [
    "plt.figure(figsize=(10,5))\n",
    "sns.scatterplot(x='built_up_area', y='price', data=df)\n",
    "plt.show()"
   ]
  },
  {
   "cell_type": "code",
   "execution_count": 64,
   "id": "2307c41e-d127-4002-804f-a66f3e70fa5c",
   "metadata": {},
   "outputs": [],
   "source": [
    "# Droping other area types now that we collected all data\n",
    "df.drop(columns=['area','areaWithType','super_built_up_area','carpet_area','area_room_ratio'],inplace=True)"
   ]
  },
  {
   "cell_type": "code",
   "execution_count": 65,
   "id": "ca3cd412-c6c8-4e84-94ea-da0004a71b52",
   "metadata": {},
   "outputs": [
    {
     "data": {
      "text/html": [
       "<div>\n",
       "<style scoped>\n",
       "    .dataframe tbody tr th:only-of-type {\n",
       "        vertical-align: middle;\n",
       "    }\n",
       "\n",
       "    .dataframe tbody tr th {\n",
       "        vertical-align: top;\n",
       "    }\n",
       "\n",
       "    .dataframe thead th {\n",
       "        text-align: right;\n",
       "    }\n",
       "</style>\n",
       "<table border=\"1\" class=\"dataframe\">\n",
       "  <thead>\n",
       "    <tr style=\"text-align: right;\">\n",
       "      <th></th>\n",
       "      <th>property_type</th>\n",
       "      <th>society</th>\n",
       "      <th>sector</th>\n",
       "      <th>price</th>\n",
       "      <th>price_per_sqft</th>\n",
       "      <th>bedRoom</th>\n",
       "      <th>bathroom</th>\n",
       "      <th>balcony</th>\n",
       "      <th>floorNum</th>\n",
       "      <th>facing</th>\n",
       "      <th>agePossession</th>\n",
       "      <th>built_up_area</th>\n",
       "      <th>study room</th>\n",
       "      <th>servant room</th>\n",
       "      <th>store room</th>\n",
       "      <th>pooja room</th>\n",
       "      <th>others</th>\n",
       "      <th>furnishing_type</th>\n",
       "      <th>luxury_score</th>\n",
       "    </tr>\n",
       "  </thead>\n",
       "  <tbody>\n",
       "    <tr>\n",
       "      <th>0</th>\n",
       "      <td>flat</td>\n",
       "      <td>signature global park 4</td>\n",
       "      <td>sector 36</td>\n",
       "      <td>0.82</td>\n",
       "      <td>7586.0</td>\n",
       "      <td>3.0</td>\n",
       "      <td>2.0</td>\n",
       "      <td>2</td>\n",
       "      <td>2.0</td>\n",
       "      <td>NaN</td>\n",
       "      <td>New Property</td>\n",
       "      <td>850.0</td>\n",
       "      <td>0.0</td>\n",
       "      <td>0.0</td>\n",
       "      <td>0.0</td>\n",
       "      <td>0.0</td>\n",
       "      <td>0.0</td>\n",
       "      <td>0.0</td>\n",
       "      <td>8.0</td>\n",
       "    </tr>\n",
       "    <tr>\n",
       "      <th>1</th>\n",
       "      <td>flat</td>\n",
       "      <td>smart world gems</td>\n",
       "      <td>sector 89</td>\n",
       "      <td>0.95</td>\n",
       "      <td>8597.0</td>\n",
       "      <td>2.0</td>\n",
       "      <td>2.0</td>\n",
       "      <td>2</td>\n",
       "      <td>4.0</td>\n",
       "      <td>NaN</td>\n",
       "      <td>New Property</td>\n",
       "      <td>1226.0</td>\n",
       "      <td>1.0</td>\n",
       "      <td>1.0</td>\n",
       "      <td>0.0</td>\n",
       "      <td>0.0</td>\n",
       "      <td>0.0</td>\n",
       "      <td>0.0</td>\n",
       "      <td>38.0</td>\n",
       "    </tr>\n",
       "    <tr>\n",
       "      <th>2</th>\n",
       "      <td>flat</td>\n",
       "      <td>breez global hill view</td>\n",
       "      <td>sohna road</td>\n",
       "      <td>0.32</td>\n",
       "      <td>5470.0</td>\n",
       "      <td>2.0</td>\n",
       "      <td>2.0</td>\n",
       "      <td>1</td>\n",
       "      <td>17.0</td>\n",
       "      <td>NaN</td>\n",
       "      <td>New Property</td>\n",
       "      <td>1000.0</td>\n",
       "      <td>0.0</td>\n",
       "      <td>0.0</td>\n",
       "      <td>0.0</td>\n",
       "      <td>0.0</td>\n",
       "      <td>0.0</td>\n",
       "      <td>0.0</td>\n",
       "      <td>49.0</td>\n",
       "    </tr>\n",
       "  </tbody>\n",
       "</table>\n",
       "</div>"
      ],
      "text/plain": [
       "  property_type                  society      sector  price  price_per_sqft  \\\n",
       "0          flat  signature global park 4   sector 36   0.82          7586.0   \n",
       "1          flat         smart world gems   sector 89   0.95          8597.0   \n",
       "2          flat   breez global hill view  sohna road   0.32          5470.0   \n",
       "\n",
       "   bedRoom  bathroom balcony  floorNum facing agePossession  built_up_area  \\\n",
       "0      3.0       2.0       2       2.0    NaN  New Property          850.0   \n",
       "1      2.0       2.0       2       4.0    NaN  New Property         1226.0   \n",
       "2      2.0       2.0       1      17.0    NaN  New Property         1000.0   \n",
       "\n",
       "   study room  servant room  store room  pooja room  others  furnishing_type  \\\n",
       "0         0.0           0.0         0.0         0.0     0.0              0.0   \n",
       "1         1.0           1.0         0.0         0.0     0.0              0.0   \n",
       "2         0.0           0.0         0.0         0.0     0.0              0.0   \n",
       "\n",
       "   luxury_score  \n",
       "0           8.0  \n",
       "1          38.0  \n",
       "2          49.0  "
      ]
     },
     "execution_count": 65,
     "metadata": {},
     "output_type": "execute_result"
    }
   ],
   "source": [
    "df.head(3)"
   ]
  },
  {
   "cell_type": "code",
   "execution_count": 66,
   "id": "c2485cc7-1f66-4f9c-9504-dbf50ae7dff0",
   "metadata": {},
   "outputs": [
    {
     "data": {
      "text/plain": [
       "property_type         0\n",
       "society               1\n",
       "sector                0\n",
       "price                 0\n",
       "price_per_sqft        0\n",
       "bedRoom               0\n",
       "bathroom              0\n",
       "balcony               0\n",
       "floorNum             17\n",
       "facing             1011\n",
       "agePossession         0\n",
       "built_up_area         0\n",
       "study room            0\n",
       "servant room          0\n",
       "store room            0\n",
       "pooja room            0\n",
       "others                0\n",
       "furnishing_type       0\n",
       "luxury_score          0\n",
       "dtype: int64"
      ]
     },
     "execution_count": 66,
     "metadata": {},
     "output_type": "execute_result"
    }
   ],
   "source": [
    "df.isnull().sum()"
   ]
  },
  {
   "cell_type": "markdown",
   "id": "450b2185-e60f-4c2d-8775-35ca428edf19",
   "metadata": {},
   "source": [
    "### Floor Num"
   ]
  },
  {
   "cell_type": "code",
   "execution_count": 67,
   "id": "a7bef65e-fe5e-4423-83f5-ce43827a8f5d",
   "metadata": {},
   "outputs": [
    {
     "data": {
      "text/plain": [
       "(17, 19)"
      ]
     },
     "execution_count": 67,
     "metadata": {},
     "output_type": "execute_result"
    }
   ],
   "source": [
    "df[df['floorNum'].isnull()].shape"
   ]
  },
  {
   "cell_type": "code",
   "execution_count": 69,
   "id": "2ae7bc24-f67f-49ac-bbf1-52817b5a77a8",
   "metadata": {},
   "outputs": [
    {
     "data": {
      "text/plain": [
       "2"
      ]
     },
     "execution_count": 69,
     "metadata": {},
     "output_type": "execute_result"
    }
   ],
   "source": [
    "int(df[df['property_type'] == 'house']['floorNum'].median())"
   ]
  },
  {
   "cell_type": "code",
   "execution_count": 71,
   "id": "09ae2981-558e-4ac1-a092-a113dd3c6b1b",
   "metadata": {},
   "outputs": [],
   "source": [
    "# Filling with median\n",
    "df.loc[df['floorNum'].isna(), 'floorNum'] = 2"
   ]
  },
  {
   "cell_type": "code",
   "execution_count": 72,
   "id": "497d1f89-15f5-4316-9b59-19f25fb17d69",
   "metadata": {},
   "outputs": [
    {
     "data": {
      "text/plain": [
       "property_type         0\n",
       "society               1\n",
       "sector                0\n",
       "price                 0\n",
       "price_per_sqft        0\n",
       "bedRoom               0\n",
       "bathroom              0\n",
       "balcony               0\n",
       "floorNum              0\n",
       "facing             1011\n",
       "agePossession         0\n",
       "built_up_area         0\n",
       "study room            0\n",
       "servant room          0\n",
       "store room            0\n",
       "pooja room            0\n",
       "others                0\n",
       "furnishing_type       0\n",
       "luxury_score          0\n",
       "dtype: int64"
      ]
     },
     "execution_count": 72,
     "metadata": {},
     "output_type": "execute_result"
    }
   ],
   "source": [
    "df.isnull().sum()"
   ]
  },
  {
   "cell_type": "markdown",
   "id": "fcf43ed9-a6d8-4971-b038-326b3c73ee01",
   "metadata": {},
   "source": [
    "### Facing"
   ]
  },
  {
   "cell_type": "code",
   "execution_count": 73,
   "id": "fcf0ec6f-9fd5-4397-94d3-cacdeef17d52",
   "metadata": {},
   "outputs": [
    {
     "data": {
      "text/plain": [
       "0.2843881856540084"
      ]
     },
     "execution_count": 73,
     "metadata": {},
     "output_type": "execute_result"
    }
   ],
   "source": [
    "# Checking the percentage of missing values\n",
    "1011/df.shape[0]"
   ]
  },
  {
   "cell_type": "code",
   "execution_count": 74,
   "id": "9730131e-7312-411f-8fe2-a2d374062d35",
   "metadata": {},
   "outputs": [
    {
     "data": {
      "text/plain": [
       "<Axes: ylabel='count'>"
      ]
     },
     "execution_count": 74,
     "metadata": {},
     "output_type": "execute_result"
    },
    {
     "data": {
      "image/png": "[encoded data removed]",
      "text/plain": [
       "<Figure size 640x480 with 1 Axes>"
      ]
     },
     "metadata": {},
     "output_type": "display_data"
    }
   ],
   "source": [
    "df['facing'].value_counts().plot(kind='pie',autopct='%0.2f%%')"
   ]
  },
  {
   "cell_type": "code",
   "execution_count": 75,
   "id": "7a813324-b06d-44e6-94b2-c6acf44bba75",
   "metadata": {},
   "outputs": [],
   "source": [
    "# Droping column as there is more than 28% values are missing\n",
    "df.drop(columns=['facing'],inplace=True)"
   ]
  },
  {
   "cell_type": "code",
   "execution_count": 77,
   "id": "efcd142b-fe1f-443f-b579-f2dbdcf3c2aa",
   "metadata": {},
   "outputs": [
    {
     "data": {
      "text/plain": [
       "property_type      0\n",
       "society            1\n",
       "sector             0\n",
       "price              0\n",
       "price_per_sqft     0\n",
       "bedRoom            0\n",
       "bathroom           0\n",
       "balcony            0\n",
       "floorNum           0\n",
       "agePossession      0\n",
       "built_up_area      0\n",
       "study room         0\n",
       "servant room       0\n",
       "store room         0\n",
       "pooja room         0\n",
       "others             0\n",
       "furnishing_type    0\n",
       "luxury_score       0\n",
       "dtype: int64"
      ]
     },
     "execution_count": 77,
     "metadata": {},
     "output_type": "execute_result"
    }
   ],
   "source": [
    "df.isnull().sum()"
   ]
  },
  {
   "cell_type": "code",
   "execution_count": 78,
   "id": "fa91b51d-a5a5-4f75-b5ab-dbfe3231af20",
   "metadata": {},
   "outputs": [
    {
     "data": {
      "text/html": [
       "<div>\n",
       "<style scoped>\n",
       "    .dataframe tbody tr th:only-of-type {\n",
       "        vertical-align: middle;\n",
       "    }\n",
       "\n",
       "    .dataframe tbody tr th {\n",
       "        vertical-align: top;\n",
       "    }\n",
       "\n",
       "    .dataframe thead th {\n",
       "        text-align: right;\n",
       "    }\n",
       "</style>\n",
       "<table border=\"1\" class=\"dataframe\">\n",
       "  <thead>\n",
       "    <tr style=\"text-align: right;\">\n",
       "      <th></th>\n",
       "      <th>property_type</th>\n",
       "      <th>society</th>\n",
       "      <th>sector</th>\n",
       "      <th>price</th>\n",
       "      <th>price_per_sqft</th>\n",
       "      <th>bedRoom</th>\n",
       "      <th>bathroom</th>\n",
       "      <th>balcony</th>\n",
       "      <th>floorNum</th>\n",
       "      <th>agePossession</th>\n",
       "      <th>built_up_area</th>\n",
       "      <th>study room</th>\n",
       "      <th>servant room</th>\n",
       "      <th>store room</th>\n",
       "      <th>pooja room</th>\n",
       "      <th>others</th>\n",
       "      <th>furnishing_type</th>\n",
       "      <th>luxury_score</th>\n",
       "    </tr>\n",
       "  </thead>\n",
       "  <tbody>\n",
       "    <tr>\n",
       "      <th>2536</th>\n",
       "      <td>flat</td>\n",
       "      <td>NaN</td>\n",
       "      <td>sector 78</td>\n",
       "      <td>0.6</td>\n",
       "      <td>3692.0</td>\n",
       "      <td>2.0</td>\n",
       "      <td>2.0</td>\n",
       "      <td>0</td>\n",
       "      <td>2.0</td>\n",
       "      <td>Under Construction</td>\n",
       "      <td>1625.0</td>\n",
       "      <td>0.0</td>\n",
       "      <td>0.0</td>\n",
       "      <td>0.0</td>\n",
       "      <td>0.0</td>\n",
       "      <td>0.0</td>\n",
       "      <td>0.0</td>\n",
       "      <td>0.0</td>\n",
       "    </tr>\n",
       "  </tbody>\n",
       "</table>\n",
       "</div>"
      ],
      "text/plain": [
       "     property_type society     sector  price  price_per_sqft  bedRoom  \\\n",
       "2536          flat     NaN  sector 78    0.6          3692.0      2.0   \n",
       "\n",
       "      bathroom balcony  floorNum       agePossession  built_up_area  \\\n",
       "2536       2.0       0       2.0  Under Construction         1625.0   \n",
       "\n",
       "      study room  servant room  store room  pooja room  others  \\\n",
       "2536         0.0           0.0         0.0         0.0     0.0   \n",
       "\n",
       "      furnishing_type  luxury_score  \n",
       "2536              0.0           0.0  "
      ]
     },
     "execution_count": 78,
     "metadata": {},
     "output_type": "execute_result"
    }
   ],
   "source": [
    "df[df['society'].isnull()]"
   ]
  },
  {
   "cell_type": "code",
   "execution_count": 79,
   "id": "a94c5dc1-d6f0-4a24-a9ef-82f5cb2a8ac3",
   "metadata": {},
   "outputs": [],
   "source": [
    "# Dropping row number 2536 as it's only one row\n",
    "df.drop(index=[2536],inplace=True)"
   ]
  },
  {
   "cell_type": "code",
   "execution_count": 80,
   "id": "08888c69-e3bb-4748-8e85-0028b7e5754d",
   "metadata": {},
   "outputs": [
    {
     "data": {
      "text/plain": [
       "property_type      0\n",
       "society            0\n",
       "sector             0\n",
       "price              0\n",
       "price_per_sqft     0\n",
       "bedRoom            0\n",
       "bathroom           0\n",
       "balcony            0\n",
       "floorNum           0\n",
       "agePossession      0\n",
       "built_up_area      0\n",
       "study room         0\n",
       "servant room       0\n",
       "store room         0\n",
       "pooja room         0\n",
       "others             0\n",
       "furnishing_type    0\n",
       "luxury_score       0\n",
       "dtype: int64"
      ]
     },
     "execution_count": 80,
     "metadata": {},
     "output_type": "execute_result"
    }
   ],
   "source": [
    "df.isnull().sum()"
   ]
  },
  {
   "cell_type": "markdown",
   "id": "4b7a7767-9e1a-4f56-86d0-1c3e02c05adb",
   "metadata": {},
   "source": [
    "### Age Possession"
   ]
  },
  {
   "cell_type": "code",
   "execution_count": 81,
   "id": "3c61abf5-67f8-4642-bfbe-4a38cd7ce9f8",
   "metadata": {},
   "outputs": [
    {
     "data": {
      "text/plain": [
       "agePossession\n",
       "Relatively New        1605\n",
       "New Property           557\n",
       "Moderately Old         545\n",
       "Old Property           293\n",
       "Undefined              291\n",
       "Under Construction     263\n",
       "Name: count, dtype: int64"
      ]
     },
     "execution_count": 81,
     "metadata": {},
     "output_type": "execute_result"
    }
   ],
   "source": [
    "# There are some values as undefined\n",
    "df['agePossession'].value_counts()"
   ]
  },
  {
   "cell_type": "code",
   "execution_count": 83,
   "id": "afff9995-1bdc-43c3-8322-99045663f157",
   "metadata": {},
   "outputs": [
    {
     "data": {
      "text/plain": [
       "(291, 18)"
      ]
     },
     "execution_count": 83,
     "metadata": {},
     "output_type": "execute_result"
    }
   ],
   "source": [
    "df[df['agePossession'] == 'Undefined'].shape"
   ]
  },
  {
   "cell_type": "code",
   "execution_count": 84,
   "id": "82677a69-703a-4b8d-bae5-f9ea3130f9c6",
   "metadata": {},
   "outputs": [],
   "source": [
    "def mode_based_imputation(row):\n",
    "    if row['agePossession'] == 'Undefined':\n",
    "        mode_value = df[(df['sector'] == row['sector']) & (df['property_type'] == row['property_type'])]['agePossession'].mode()\n",
    "        # If mode_value is empty (no mode found), return NaN, otherwise return the mode\n",
    "        if not mode_value.empty:\n",
    "            return mode_value.iloc[0] \n",
    "        else:\n",
    "            return np.nan\n",
    "    else:\n",
    "        return row['agePossession']"
   ]
  },
  {
   "cell_type": "code",
   "execution_count": 85,
   "id": "7256d793-61c9-41ec-9ae1-43cf5cfc422f",
   "metadata": {},
   "outputs": [
    {
     "data": {
      "text/plain": [
       "agePossession\n",
       "Relatively New        1715\n",
       "New Property           598\n",
       "Moderately Old         585\n",
       "Old Property           324\n",
       "Under Construction     277\n",
       "Undefined               55\n",
       "Name: count, dtype: int64"
      ]
     },
     "execution_count": 85,
     "metadata": {},
     "output_type": "execute_result"
    }
   ],
   "source": [
    "df['agePossession'] = df.apply(mode_based_imputation,axis=1)\n",
    "df['agePossession'].value_counts()"
   ]
  },
  {
   "cell_type": "code",
   "execution_count": 86,
   "id": "ccc6803e-5639-49c8-8e6b-2b4874e5966e",
   "metadata": {},
   "outputs": [],
   "source": [
    "def mode_based_imputation2(row):\n",
    "    if row['agePossession'] == 'Undefined':\n",
    "        mode_value = df[(df['sector'] == row['sector'])]['agePossession'].mode()\n",
    "        # If mode_value is empty (no mode found), return NaN, otherwise return the mode\n",
    "        if not mode_value.empty:\n",
    "            return mode_value.iloc[0] \n",
    "        else:\n",
    "            return np.nan\n",
    "    else:\n",
    "        return row['agePossession']"
   ]
  },
  {
   "cell_type": "code",
   "execution_count": 87,
   "id": "c8535f4a-5361-4945-b954-f986c73c369a",
   "metadata": {},
   "outputs": [
    {
     "data": {
      "text/plain": [
       "agePossession\n",
       "Relatively New        1730\n",
       "New Property           599\n",
       "Moderately Old         592\n",
       "Old Property           327\n",
       "Under Construction     277\n",
       "Undefined               29\n",
       "Name: count, dtype: int64"
      ]
     },
     "execution_count": 87,
     "metadata": {},
     "output_type": "execute_result"
    }
   ],
   "source": [
    "df['agePossession'] = df.apply(mode_based_imputation2,axis=1)\n",
    "df['agePossession'].value_counts()"
   ]
  },
  {
   "cell_type": "code",
   "execution_count": 88,
   "id": "b67c8aad-f87f-45b9-977f-deeeb134ebd4",
   "metadata": {},
   "outputs": [],
   "source": [
    "def mode_based_imputation3(row):\n",
    "    if row['agePossession'] == 'Undefined':\n",
    "        mode_value = df[(df['property_type'] == row['property_type'])]['agePossession'].mode()\n",
    "        # If mode_value is empty (no mode found), return NaN, otherwise return the mode\n",
    "        if not mode_value.empty:\n",
    "            return mode_value.iloc[0] \n",
    "        else:\n",
    "            return np.nan\n",
    "    else:\n",
    "        return row['agePossession']"
   ]
  },
  {
   "cell_type": "code",
   "execution_count": 89,
   "id": "d6958fcd-167b-46f8-8e77-1a8b2452a537",
   "metadata": {},
   "outputs": [
    {
     "data": {
      "text/plain": [
       "agePossession\n",
       "Relatively New        1732\n",
       "Moderately Old         619\n",
       "New Property           599\n",
       "Old Property           327\n",
       "Under Construction     277\n",
       "Name: count, dtype: int64"
      ]
     },
     "execution_count": 89,
     "metadata": {},
     "output_type": "execute_result"
    }
   ],
   "source": [
    "df['agePossession'] = df.apply(mode_based_imputation3,axis=1)\n",
    "df['agePossession'].value_counts()"
   ]
  },
  {
   "cell_type": "code",
   "execution_count": 90,
   "id": "e351c751-3b1d-4de8-b75c-cb4a48007892",
   "metadata": {},
   "outputs": [
    {
     "data": {
      "text/plain": [
       "(3554, 18)"
      ]
     },
     "execution_count": 90,
     "metadata": {},
     "output_type": "execute_result"
    }
   ],
   "source": [
    "df.shape"
   ]
  },
  {
   "cell_type": "code",
   "execution_count": 91,
   "id": "29face67-bcf3-46f2-a4fc-27c59bfdac52",
   "metadata": {},
   "outputs": [],
   "source": [
    "df.to_csv('gurgaon_properties_missing_value_imputation.csv',index=False)"
   ]
  },
  {
   "cell_type": "code",
   "execution_count": null,
   "id": "58fc43c5-9dfd-452b-ab42-cefb3424324a",
   "metadata": {},
   "outputs": [],
   "source": []
  }
 ],
 "metadata": {
  "kernelspec": {
   "display_name": "Python 3 (ipykernel)",
   "language": "python",
   "name": "python3"
  },
  "language_info": {
   "codemirror_mode": {
    "name": "ipython",
    "version": 3
   },
   "file_extension": ".py",
   "mimetype": "text/x-python",
   "name": "python",
   "nbconvert_exporter": "python",
   "pygments_lexer": "ipython3",
   "version": "3.12.3"
  }
 },
 "nbformat": 4,
 "nbformat_minor": 5
}
